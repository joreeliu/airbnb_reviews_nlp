{
  "nbformat": 4,
  "nbformat_minor": 0,
  "metadata": {
    "colab": {
      "name": "airbnb_reviews_nlp.ipynb",
      "provenance": [],
      "toc_visible": true
    },
    "kernelspec": {
      "name": "python3",
      "display_name": "Python 3"
    }
  },
  "cells": [
    {
      "cell_type": "code",
      "metadata": {
        "id": "iBIDPvO82w4y",
        "colab_type": "code",
        "colab": {}
      },
      "source": [
        "import pandas as pd\n",
        "import numpy as np\n",
        "pd.set_option('display.max_rows', 500)\n",
        "pd.set_option('display.max_columns', 500)\n",
        "pd.set_option('display.width', 1000)"
      ],
      "execution_count": 0,
      "outputs": []
    },
    {
      "cell_type": "code",
      "metadata": {
        "id": "KxwD6GBLBRGj",
        "colab_type": "code",
        "colab": {}
      },
      "source": [
        "  from sklearn.feature_extraction.text import TfidfVectorizer\n",
        "  from sklearn.cluster import KMeans"
      ],
      "execution_count": 0,
      "outputs": []
    },
    {
      "cell_type": "code",
      "metadata": {
        "id": "s4avfF2i3bzc",
        "colab_type": "code",
        "colab": {}
      },
      "source": [
        "listings = pd.read_csv('listings_with_label.csv',index_col=[0])"
      ],
      "execution_count": 0,
      "outputs": []
    },
    {
      "cell_type": "code",
      "metadata": {
        "id": "JdcTa4I_Ofwl",
        "colab_type": "code",
        "colab": {}
      },
      "source": [
        "neighborhoods = pd.read_csv('neighbourhoods.csv')"
      ],
      "execution_count": 0,
      "outputs": []
    },
    {
      "cell_type": "code",
      "metadata": {
        "id": "JrNu41VG5lxK",
        "colab_type": "code",
        "outputId": "34ffc497-4c90-4562-8b44-19a646d3472a",
        "colab": {
          "base_uri": "https://localhost:8080/",
          "height": 71
        }
      },
      "source": [
        "reviews = pd.read_csv('reviews.csv',index_col=[0])"
      ],
      "execution_count": 0,
      "outputs": [
        {
          "output_type": "stream",
          "text": [
            "/usr/local/lib/python3.6/dist-packages/numpy/lib/arraysetops.py:569: FutureWarning: elementwise comparison failed; returning scalar instead, but in the future will perform elementwise comparison\n",
            "  mask |= (ar1 == a)\n"
          ],
          "name": "stderr"
        }
      ]
    },
    {
      "cell_type": "code",
      "metadata": {
        "id": "CtcEXSLR6HCm",
        "colab_type": "code",
        "colab": {}
      },
      "source": [
        "reviews['date'] = pd.to_datetime(reviews['date'])"
      ],
      "execution_count": 0,
      "outputs": []
    },
    {
      "cell_type": "code",
      "metadata": {
        "id": "reaLlFHf6Ldb",
        "colab_type": "code",
        "outputId": "6df6e44c-09a0-4cef-d2f6-e5d52d1894d4",
        "colab": {
          "base_uri": "https://localhost:8080/",
          "height": 419
        }
      },
      "source": [
        "reviews[reviews['date']>='1/1/2015']"
      ],
      "execution_count": 0,
      "outputs": [
        {
          "output_type": "execute_result",
          "data": {
            "text/html": [
              "<div>\n",
              "<style scoped>\n",
              "    .dataframe tbody tr th:only-of-type {\n",
              "        vertical-align: middle;\n",
              "    }\n",
              "\n",
              "    .dataframe tbody tr th {\n",
              "        vertical-align: top;\n",
              "    }\n",
              "\n",
              "    .dataframe thead th {\n",
              "        text-align: right;\n",
              "    }\n",
              "</style>\n",
              "<table border=\"1\" class=\"dataframe\">\n",
              "  <thead>\n",
              "    <tr style=\"text-align: right;\">\n",
              "      <th></th>\n",
              "      <th>listing_id</th>\n",
              "      <th>id</th>\n",
              "      <th>date</th>\n",
              "      <th>reviewer_id</th>\n",
              "      <th>reviewer_name</th>\n",
              "      <th>comments</th>\n",
              "    </tr>\n",
              "  </thead>\n",
              "  <tbody>\n",
              "    <tr>\n",
              "      <th>15</th>\n",
              "      <td>2595</td>\n",
              "      <td>28794060</td>\n",
              "      <td>2015-03-30</td>\n",
              "      <td>27436102</td>\n",
              "      <td>Kellie</td>\n",
              "      <td>Jennifer was very good at communicating with u...</td>\n",
              "    </tr>\n",
              "    <tr>\n",
              "      <th>16</th>\n",
              "      <td>2595</td>\n",
              "      <td>30430122</td>\n",
              "      <td>2015-04-21</td>\n",
              "      <td>6429364</td>\n",
              "      <td>Sonya</td>\n",
              "      <td>I love this space.  It is truly a gem in the h...</td>\n",
              "    </tr>\n",
              "    <tr>\n",
              "      <th>17</th>\n",
              "      <td>2595</td>\n",
              "      <td>32532759</td>\n",
              "      <td>2015-05-19</td>\n",
              "      <td>12146524</td>\n",
              "      <td>Michiel</td>\n",
              "      <td>This was our first Airbnb experience, and Jenn...</td>\n",
              "    </tr>\n",
              "    <tr>\n",
              "      <th>18</th>\n",
              "      <td>2595</td>\n",
              "      <td>47785650</td>\n",
              "      <td>2015-09-21</td>\n",
              "      <td>12885233</td>\n",
              "      <td>Lin</td>\n",
              "      <td>Great location, in the middle of everything. T...</td>\n",
              "    </tr>\n",
              "    <tr>\n",
              "      <th>19</th>\n",
              "      <td>2595</td>\n",
              "      <td>48764464</td>\n",
              "      <td>2015-09-28</td>\n",
              "      <td>18636130</td>\n",
              "      <td>Alex</td>\n",
              "      <td>Jennifer was without doubt an amazing host, sh...</td>\n",
              "    </tr>\n",
              "    <tr>\n",
              "      <th>...</th>\n",
              "      <td>...</td>\n",
              "      <td>...</td>\n",
              "      <td>...</td>\n",
              "      <td>...</td>\n",
              "      <td>...</td>\n",
              "      <td>...</td>\n",
              "    </tr>\n",
              "    <tr>\n",
              "      <th>1226549</th>\n",
              "      <td>43300250</td>\n",
              "      <td>623346082</td>\n",
              "      <td>2020-04-29</td>\n",
              "      <td>332274505</td>\n",
              "      <td>Rocco</td>\n",
              "      <td>Wonderful place and an perfect location. The p...</td>\n",
              "    </tr>\n",
              "    <tr>\n",
              "      <th>1226550</th>\n",
              "      <td>43320440</td>\n",
              "      <td>624021540</td>\n",
              "      <td>2020-05-05</td>\n",
              "      <td>318190347</td>\n",
              "      <td>Kaj</td>\n",
              "      <td>Great time !</td>\n",
              "    </tr>\n",
              "    <tr>\n",
              "      <th>1226551</th>\n",
              "      <td>43320440</td>\n",
              "      <td>624146251</td>\n",
              "      <td>2020-05-07</td>\n",
              "      <td>278355992</td>\n",
              "      <td>Joseph</td>\n",
              "      <td>Immediate responses! Very cool place!</td>\n",
              "    </tr>\n",
              "    <tr>\n",
              "      <th>1226552</th>\n",
              "      <td>43325856</td>\n",
              "      <td>623942318</td>\n",
              "      <td>2020-05-04</td>\n",
              "      <td>18351733</td>\n",
              "      <td>Adrielle</td>\n",
              "      <td>The photos don’t do this place justice! This p...</td>\n",
              "    </tr>\n",
              "    <tr>\n",
              "      <th>1226553</th>\n",
              "      <td>43327284</td>\n",
              "      <td>624147495</td>\n",
              "      <td>2020-05-07</td>\n",
              "      <td>57291971</td>\n",
              "      <td>Regina</td>\n",
              "      <td>One of the nice Airbnb’s I’ve stayed in. The p...</td>\n",
              "    </tr>\n",
              "  </tbody>\n",
              "</table>\n",
              "<p>1160566 rows × 6 columns</p>\n",
              "</div>"
            ],
            "text/plain": [
              "         listing_id         id       date  reviewer_id reviewer_name                                           comments\n",
              "15             2595   28794060 2015-03-30     27436102        Kellie  Jennifer was very good at communicating with u...\n",
              "16             2595   30430122 2015-04-21      6429364         Sonya  I love this space.  It is truly a gem in the h...\n",
              "17             2595   32532759 2015-05-19     12146524       Michiel  This was our first Airbnb experience, and Jenn...\n",
              "18             2595   47785650 2015-09-21     12885233           Lin  Great location, in the middle of everything. T...\n",
              "19             2595   48764464 2015-09-28     18636130          Alex  Jennifer was without doubt an amazing host, sh...\n",
              "...             ...        ...        ...          ...           ...                                                ...\n",
              "1226549    43300250  623346082 2020-04-29    332274505         Rocco  Wonderful place and an perfect location. The p...\n",
              "1226550    43320440  624021540 2020-05-05    318190347           Kaj                                       Great time !\n",
              "1226551    43320440  624146251 2020-05-07    278355992        Joseph              Immediate responses! Very cool place!\n",
              "1226552    43325856  623942318 2020-05-04     18351733      Adrielle  The photos don’t do this place justice! This p...\n",
              "1226553    43327284  624147495 2020-05-07     57291971        Regina  One of the nice Airbnb’s I’ve stayed in. The p...\n",
              "\n",
              "[1160566 rows x 6 columns]"
            ]
          },
          "metadata": {
            "tags": []
          },
          "execution_count": 36
        }
      ]
    },
    {
      "cell_type": "code",
      "metadata": {
        "id": "JBh5pSwKA7Lu",
        "colab_type": "code",
        "colab": {}
      },
      "source": [
        "listings['neighbourhood'].value_counts()"
      ],
      "execution_count": 0,
      "outputs": []
    },
    {
      "cell_type": "code",
      "metadata": {
        "id": "ZjiDMANK-gZ4",
        "colab_type": "code",
        "colab": {}
      },
      "source": [
        "Manhattan = listings[listings['listing_id']=='Manhattan']['id'].to_list()"
      ],
      "execution_count": 0,
      "outputs": []
    },
    {
      "cell_type": "code",
      "metadata": {
        "id": "sLDrVSxABKJP",
        "colab_type": "code",
        "colab": {}
      },
      "source": [
        "safe_manhattan = reviews[(reviews['neighborhood'].isin(Mid_East)) & (reviews['comments'].str.contains('safe'))]"
      ],
      "execution_count": 0,
      "outputs": []
    },
    {
      "cell_type": "code",
      "metadata": {
        "id": "3mQJXhy0IpDq",
        "colab_type": "code",
        "colab": {}
      },
      "source": [
        "neighborhoods_list = neighborhoods['neighbourhood']"
      ],
      "execution_count": 0,
      "outputs": []
    },
    {
      "cell_type": "code",
      "metadata": {
        "id": "742tFGgjKVdO",
        "colab_type": "code",
        "colab": {}
      },
      "source": [
        "safe_ids = safe_manhattan['listing_id'].unique()"
      ],
      "execution_count": 0,
      "outputs": []
    },
    {
      "cell_type": "code",
      "metadata": {
        "id": "KOxTb2gnKasY",
        "colab_type": "code",
        "colab": {}
      },
      "source": [
        "safe_listings = listings[listings['id'].isin(safe_ids)]"
      ],
      "execution_count": 0,
      "outputs": []
    },
    {
      "cell_type": "code",
      "metadata": {
        "id": "UXOjg93bKy5H",
        "colab_type": "code",
        "outputId": "166054e4-67c8-417f-ae3f-58e7580219e5",
        "colab": {
          "base_uri": "https://localhost:8080/",
          "height": 34
        }
      },
      "source": [
        "! conda install geopandas"
      ],
      "execution_count": 0,
      "outputs": [
        {
          "output_type": "stream",
          "text": [
            "/bin/bash: conda: command not found\n"
          ],
          "name": "stdout"
        }
      ]
    },
    {
      "cell_type": "code",
      "metadata": {
        "id": "AYKAyrdMLAUc",
        "colab_type": "code",
        "outputId": "842f762c-b153-4a2e-bfa8-afd93f684188",
        "colab": {
          "base_uri": "https://localhost:8080/",
          "height": 51
        }
      },
      "source": [
        "!install geopandas"
      ],
      "execution_count": 0,
      "outputs": [
        {
          "output_type": "stream",
          "text": [
            "install: missing destination file operand after 'geopandas'\n",
            "Try 'install --help' for more information.\n"
          ],
          "name": "stdout"
        }
      ]
    },
    {
      "cell_type": "code",
      "metadata": {
        "id": "1qXHf-1cLMEg",
        "colab_type": "code",
        "colab": {}
      },
      "source": [
        "! pip install geopandas"
      ],
      "execution_count": 0,
      "outputs": []
    },
    {
      "cell_type": "code",
      "metadata": {
        "id": "_n890CgKLO70",
        "colab_type": "code",
        "colab": {}
      },
      "source": [
        "import matplotlib.pyplot as plt"
      ],
      "execution_count": 0,
      "outputs": []
    },
    {
      "cell_type": "code",
      "metadata": {
        "id": "aDCd-SOsLgii",
        "colab_type": "code",
        "colab": {}
      },
      "source": [
        "BBox = ((safe_listings.longitude.min(),   safe_listings.longitude.max(),      \n",
        "         safe_listings.latitude.min(), safe_listings.latitude.max()))"
      ],
      "execution_count": 0,
      "outputs": []
    },
    {
      "cell_type": "code",
      "metadata": {
        "id": "epNLo1XcN2KQ",
        "colab_type": "code",
        "colab": {}
      },
      "source": [
        "ruh_m = plt.imread('map.png')"
      ],
      "execution_count": 0,
      "outputs": []
    },
    {
      "cell_type": "code",
      "metadata": {
        "id": "D0ozu2exMF12",
        "colab_type": "code",
        "outputId": "720d3b1a-5b5c-491e-b15e-e6057b5cc98c",
        "colab": {
          "base_uri": "https://localhost:8080/",
          "height": 461
        }
      },
      "source": [
        "fig, ax = plt.subplots(figsize = (8,7))\n",
        "ax.scatter(safe_listings.longitude, safe_listings.latitude, zorder=1, alpha= 0.8, c='black', s=10)\n",
        "ax.set_title('Plotting Spatial Data on Riyadh Map')\n",
        "ax.set_xlim(BBox[0],BBox[1])\n",
        "ax.set_ylim(BBox[2],BBox[3])\n",
        "ax.imshow(ruh_m, zorder=0, extent = BBox, aspect= 'equal')\n"
      ],
      "execution_count": 0,
      "outputs": [
        {
          "output_type": "execute_result",
          "data": {
            "text/plain": [
              "<matplotlib.image.AxesImage at 0x7f400d052550>"
            ]
          },
          "metadata": {
            "tags": []
          },
          "execution_count": 116
        },
        {
          "output_type": "display_data",
          "data": {
            "image/png": "[encoded data removed]",
            "text/plain": [
              "<Figure size 576x504 with 1 Axes>"
            ]
          },
          "metadata": {
            "tags": [],
            "needs_background": "light"
          }
        }
      ]
    },
    {
      "cell_type": "code",
      "metadata": {
        "id": "FFEqJ6M1MXVE",
        "colab_type": "code",
        "outputId": "d32f0264-5f08-4cd7-e59c-18183092dfae",
        "colab": {
          "base_uri": "https://localhost:8080/",
          "height": 34
        }
      },
      "source": [
        "BBox"
      ],
      "execution_count": 0,
      "outputs": [
        {
          "output_type": "execute_result",
          "data": {
            "text/plain": [
              "(-73.98307, -73.96313, 40.74391, 40.76188)"
            ]
          },
          "metadata": {
            "tags": []
          },
          "execution_count": 107
        }
      ]
    },
    {
      "cell_type": "code",
      "metadata": {
        "id": "F0nRK7w8Mh_L",
        "colab_type": "code",
        "outputId": "c04ab6be-5c38-406c-a610-e4da5bb5e195",
        "colab": {
          "base_uri": "https://localhost:8080/",
          "height": 34
        }
      },
      "source": [
        "safe_listings.longitude.min()"
      ],
      "execution_count": 0,
      "outputs": [
        {
          "output_type": "execute_result",
          "data": {
            "text/plain": [
              "-73.98307"
            ]
          },
          "metadata": {
            "tags": []
          },
          "execution_count": 110
        }
      ]
    },
    {
      "cell_type": "code",
      "metadata": {
        "id": "RKRgQTl-M7uZ",
        "colab_type": "code",
        "colab": {}
      },
      "source": [
        "ids = listings[listings['neighbourhood'].isin(neighborhoods_list)]['id'].to_list()"
      ],
      "execution_count": 0,
      "outputs": []
    },
    {
      "cell_type": "code",
      "metadata": {
        "id": "vHSX3ZmnQsYL",
        "colab_type": "code",
        "colab": {}
      },
      "source": [
        "reviews[(reviews['listing_id'].isin(ids)) & (reviews['comments'].str.contains(\"neighborhood\"))]"
      ],
      "execution_count": 0,
      "outputs": []
    },
    {
      "cell_type": "code",
      "metadata": {
        "id": "F72w4AxoQLBO",
        "colab_type": "code",
        "colab": {}
      },
      "source": [
        "def review_contains_word(word):\n",
        "  ids = listings[listings['neighbourhood'].isin(neighborhoods_list)]['id'].to_list()\n",
        "  review = reviews[(reviews['listing_id'].isin(ids)) & (reviews['comments'].str.contains(word))]\n",
        "  listing_contains_word = review['listing_id'].unique()\n",
        "\n",
        "  return listing_contains_word"
      ],
      "execution_count": 0,
      "outputs": []
    },
    {
      "cell_type": "code",
      "metadata": {
        "id": "l1Lews15RT9x",
        "colab_type": "code",
        "outputId": "40deab00-705d-472c-c469-1a716b358200",
        "colab": {
          "base_uri": "https://localhost:8080/",
          "height": 34
        }
      },
      "source": [
        "review_contains_word(\"peaceful\")"
      ],
      "execution_count": 0,
      "outputs": [
        {
          "output_type": "execute_result",
          "data": {
            "text/plain": [
              "array([    3831,     5203,     5803, ..., 42434784, 42597821, 42808495])"
            ]
          },
          "metadata": {
            "tags": []
          },
          "execution_count": 134
        }
      ]
    },
    {
      "cell_type": "markdown",
      "metadata": {
        "id": "JXVpNfwSYn_8",
        "colab_type": "text"
      },
      "source": [
        "# Data Cleaning and Text Processing"
      ]
    },
    {
      "cell_type": "code",
      "metadata": {
        "id": "WxoeXm490u90",
        "colab_type": "code",
        "colab": {}
      },
      "source": [
        "listings = listings[listings['neighborhood_overview'].notna()]"
      ],
      "execution_count": 0,
      "outputs": []
    },
    {
      "cell_type": "code",
      "metadata": {
        "id": "DGsaSsrfwlU0",
        "colab_type": "code",
        "colab": {}
      },
      "source": [
        "listings = listings[['id','name','summary','space','description','neighborhood_overview','transit',\n",
        "          'access','neighbourhood','neighbourhood_cleansed','zipcode','market','latitude','longitude',\n",
        "         'room_type','property_type','number_of_reviews','review_scores_rating','review_scores_location']]"
      ],
      "execution_count": 0,
      "outputs": []
    },
    {
      "cell_type": "code",
      "metadata": {
        "id": "1sga0Y94RW8z",
        "colab_type": "code",
        "colab": {}
      },
      "source": [
        "reviews_with_nb = pd.merge(reviews, listings, left_on='listing_id', right_on='id')"
      ],
      "execution_count": 0,
      "outputs": []
    },
    {
      "cell_type": "code",
      "metadata": {
        "id": "2mTTeVmKeEOI",
        "colab_type": "code",
        "colab": {}
      },
      "source": [
        "### Pre cleaning:\n",
        "\"\"\"\n",
        "    +1. Remove all neighborhood names\n",
        "    +1. Remove all boro names\n",
        "    +1. Remove all other unnecessary words\n",
        "  \"\"\"\n",
        "boro_names = neighborhoods['neighbourhood_group'].unique().tolist()\n",
        "boro_names = list(map(lambda x:x.lower(),boro_names))\n",
        "nei_names = neighborhoods['neighbourhood'].unique().tolist()\n",
        "nei_names = list(map(lambda x:x.lower(),nei_names))\n",
        "## exclude other unneccessay words\n",
        "excluded_words = ['ny','neighborhood','neighbourhood','city','nyc','new york',' new york city']\n",
        "\n",
        "### combine to a list of unwanted words\n",
        "unwanted_words = boro_names + nei_names + excluded_words\n"
      ],
      "execution_count": 0,
      "outputs": []
    },
    {
      "cell_type": "code",
      "metadata": {
        "id": "hpa9vSgbgDWc",
        "colab_type": "code",
        "colab": {}
      },
      "source": [
        "listings['neighborhood_overview'] = listings['neighborhood_overview'].str.lower().replace('|'.join(unwanted_words),'',regex=True)\n"
      ],
      "execution_count": 0,
      "outputs": []
    },
    {
      "cell_type": "code",
      "metadata": {
        "id": "nmu9HjVHgalh",
        "colab_type": "code",
        "outputId": "228f622d-e03f-447a-9e93-2b154e1bbad9",
        "colab": {
          "base_uri": "https://localhost:8080/",
          "height": 224
        }
      },
      "source": [
        "listings.head(10)['neighborhood_overview'].values"
      ],
      "execution_count": 0,
      "outputs": [
        {
          "output_type": "execute_result",
          "data": {
            "text/plain": [
              "array(['centrally located in the heart of  just a few blocks from all subway connections in the very desirable  location a few minutes walk to times square, the , bryant park and herald square.',\n",
              "       'just the right mix of urban center and local ; close to all but enough quiet for a calming walk.',\n",
              "       \"my  in  east is called . the area is very centrally located with easy access to explore . the apartment is about 5 blocks (7 minute walk) to the united nations and grand central station the main and most historic train station.  grand central will give you access to every train in the . the apartment is also very close to main attractions, it's about a 10 minute walk to both the empire state building and times square.  there's a great shopping area with dozens of stores including h&m, zara, the gap, bebe and the world famous macy's department store. these shops are a 10 minute walk up east 34th street from 5th avenue and 8th avenue.   if you would like to stay local in the area, there is a very long & famous strip of bars and restaurants along 3rd avenue, which is just around the corner from the apartment. it's commonly known as the 3rd avenue strip.\",\n",
              "       ', ma restaurants around here.',\n",
              "       'our  is full of restaurants and cafes.  there is plenty to do.',\n",
              "       \"historically, the  was a stopping ground for immigrants who just arrived in c and was filled with tenements. there is an awesome tenement museum now on orchard street, not far from my apartment. the  has, in my opinion, two identities. the eastern side is very residential. the western, more in part is a hip, night time destinations with ma bars, restaurants, galleries, cafes, independent shops, etc. my apartment is a couple of minutes from the hip part.  my particular street is very much in transition definitely going through gentrification. my block has now three renovated buildings, including mine and i suspect in a few years, will be completely different.  my immediate  is a mix of people - a real reflection of c diversity - asian, latin, jewish, black, young professionals, hipsters, artists, etc. it's a cool mix. the street is urban for sure but very safe. my building is filled with young professionals, creative types - one married co\",\n",
              "       'the  is busy with restaurants staying open late due to its proximity to the broadway theaters.',\n",
              "       \"the  is a great  - quieter and more peaceful than other c 'hoods, but steps from every kind of entertainment, restaurants, shops, etc. there is a waterfront park across the street where you can sun, walk, bike ride, roller blade, etc. for miles and miles. argentine tango on the pier on some evenings!\",\n",
              "       \" is amazing! best subways to , ,  (20 mins); *  excellent affordable restaurants;  supermarket on corner. *  close to barclay's center, bell house, other good music clubs, cultural events; *  near prospect park (free events, concerts) & botanical gardens  *  museum /  academy of music  *  steps from  marathon route *  flea markets & bargain shopping *  ymca,  5 gyms nearby;  street parking.\",\n",
              "       'the  is the most walking friendly . there are restaurants, convenient stores, subway stations close by'],\n",
              "      dtype=object)"
            ]
          },
          "metadata": {
            "tags": []
          },
          "execution_count": 230
        }
      ]
    },
    {
      "cell_type": "code",
      "metadata": {
        "id": "1LA_mJ1C11zy",
        "colab_type": "code",
        "outputId": "28cbc159-ec6e-48bb-b7a8-1571257fbfff",
        "colab": {
          "base_uri": "https://localhost:8080/",
          "height": 85
        }
      },
      "source": [
        "### Text Preprocessing\n",
        "\"\"\"removes punctuation, stopwords, and returns a list of the remaining words, or tokens\"\"\"\n",
        "import nltk\n",
        "from nltk.corpus import stopwords\n",
        "from nltk.stem import WordNetLemmatizer\n",
        "nltk.download('stopwords')\n",
        "nltk.download('wordnet')\n",
        "\n",
        "\n",
        "import string\n",
        "def text_process(text):\n",
        "    '''\n",
        "    Takes in a string of text, then performs the following:\n",
        "    1. Remove all punctuation\n",
        "    2. Remove all stopwords\n",
        "    3. Return the cleaned text as a list of words\n",
        "    4. Remove words\n",
        "    '''\n",
        "    stemmer = WordNetLemmatizer()\n",
        "    nopunc = [char for char in text if char not in string.punctuation]\n",
        "    nopunc = ''.join([i for i in nopunc if not i.isdigit()])\n",
        "    nopunc =  [word.lower() for word in nopunc.split() if word not in stopwords.words('english')]\n",
        "    return [stemmer.lemmatize(word) for word in nopunc]"
      ],
      "execution_count": 0,
      "outputs": [
        {
          "output_type": "stream",
          "text": [
            "[nltk_data] Downloading package stopwords to /root/nltk_data...\n",
            "[nltk_data]   Unzipping corpora/stopwords.zip.\n",
            "[nltk_data] Downloading package wordnet to /root/nltk_data...\n",
            "[nltk_data]   Unzipping corpora/wordnet.zip.\n"
          ],
          "name": "stdout"
        }
      ]
    },
    {
      "cell_type": "code",
      "metadata": {
        "id": "bDWO1wlmn7uw",
        "colab_type": "code",
        "colab": {}
      },
      "source": [
        "listings['neighborhood_overview_processed'] = listings['neighborhood_overview'].apply(lambda x: text_process(x)).apply(lambda x: ', '.join([str(i) for i in x])).str.replace(',','')"
      ],
      "execution_count": 0,
      "outputs": []
    },
    {
      "cell_type": "code",
      "metadata": {
        "id": "1tSwXI2PowyH",
        "colab_type": "code",
        "outputId": "e9dd9404-342d-4a27-c147-89fa9a8de4cc",
        "colab": {
          "base_uri": "https://localhost:8080/",
          "height": 85
        }
      },
      "source": [
        "listings['neighborhood_overview_processed'].head(3)"
      ],
      "execution_count": 0,
      "outputs": [
        {
          "output_type": "execute_result",
          "data": {
            "text/plain": [
              "1    centrally located heart block subway connectio...\n",
              "2    right mix urban center local close enough quie...\n",
              "3    east called area centrally located easy access...\n",
              "Name: neighborhood_overview_processed, dtype: object"
            ]
          },
          "metadata": {
            "tags": []
          },
          "execution_count": 255
        }
      ]
    },
    {
      "cell_type": "code",
      "metadata": {
        "id": "PkjNe3jYZEsV",
        "colab_type": "code",
        "colab": {}
      },
      "source": [
        "#Vectorisation : -\n",
        "corpus = []\n",
        "for index, row in listings.iterrows():\n",
        "  overview = row.neighborhood_overview_processed\n",
        "  corpus.append(overview)\n"
      ],
      "execution_count": 0,
      "outputs": []
    },
    {
      "cell_type": "code",
      "metadata": {
        "id": "PIItCTzmChpp",
        "colab_type": "code",
        "outputId": "b72e4817-8048-4896-9303-764a636fbff0",
        "colab": {
          "base_uri": "https://localhost:8080/",
          "height": 34
        }
      },
      "source": [
        "listings.shape"
      ],
      "execution_count": 0,
      "outputs": [
        {
          "output_type": "execute_result",
          "data": {
            "text/plain": [
              "(32571, 21)"
            ]
          },
          "metadata": {
            "tags": []
          },
          "execution_count": 30
        }
      ]
    },
    {
      "cell_type": "code",
      "metadata": {
        "id": "t9r7vRc6qh3w",
        "colab_type": "code",
        "colab": {}
      },
      "source": [
        "listings = listings[listings['neighborhood_overview_processed'].notna()]"
      ],
      "execution_count": 0,
      "outputs": []
    },
    {
      "cell_type": "code",
      "metadata": {
        "id": "GdNikQ_0qiWa",
        "colab_type": "code",
        "colab": {}
      },
      "source": [
        "tfidf_vec = TfidfVectorizer(ngram_range=(1, 3))\n",
        "review_tfidf_vec = tfidf_vec.fit_transform(corpus)\n"
      ],
      "execution_count": 0,
      "outputs": []
    },
    {
      "cell_type": "markdown",
      "metadata": {
        "id": "xQgpL3ENvMWI",
        "colab_type": "text"
      },
      "source": [
        "# NLP -- Unsupervised Classification\n"
      ]
    },
    {
      "cell_type": "markdown",
      "metadata": {
        "id": "RPPCkGOjzMcH",
        "colab_type": "text"
      },
      "source": [
        "### Neighborhood Overview Clusterings\n",
        "#### Every listing id corresponds to one neighborhood and one neighborhood overview"
      ]
    },
    {
      "cell_type": "markdown",
      "metadata": {
        "id": "97tv9ocdDsLK",
        "colab_type": "text"
      },
      "source": [
        "#### test the clustering"
      ]
    },
    {
      "cell_type": "code",
      "metadata": {
        "id": "fr97XskVCWQA",
        "colab_type": "code",
        "outputId": "92529a7d-1274-4a76-a755-93c49243c8ff",
        "colab": {
          "base_uri": "https://localhost:8080/",
          "height": 68
        }
      },
      "source": [
        "## Clustering the training sentences with K-means technique\n",
        "## n_clusters = 10, n_init=10\n",
        "\n",
        "from sklearn.cluster import KMeans\n",
        "modelkmeans = KMeans(n_clusters=10, init='k-means++', n_init=10)\n",
        "modelkmeans.fit(review_tfidf_vec)"
      ],
      "execution_count": 0,
      "outputs": [
        {
          "output_type": "execute_result",
          "data": {
            "text/plain": [
              "KMeans(algorithm='auto', copy_x=True, init='k-means++', max_iter=300,\n",
              "       n_clusters=10, n_init=10, n_jobs=None, precompute_distances='auto',\n",
              "       random_state=None, tol=0.0001, verbose=0)"
            ]
          },
          "metadata": {
            "tags": []
          },
          "execution_count": 270
        }
      ]
    },
    {
      "cell_type": "code",
      "metadata": {
        "id": "4C7FLJkmDxL-",
        "colab_type": "code",
        "colab": {}
      },
      "source": [
        "order_centroids = modelkmeans.cluster_centers_.argsort()[:, ::-1]\n",
        "terms = tfidf_vec.get_feature_names()"
      ],
      "execution_count": 0,
      "outputs": []
    },
    {
      "cell_type": "code",
      "metadata": {
        "id": "hYHw8l-oxlJd",
        "colab_type": "code",
        "outputId": "76b392c1-0207-4deb-c6dc-242ac01b6e7c",
        "colab": {
          "base_uri": "https://localhost:8080/",
          "height": 1000
        }
      },
      "source": [
        "for i in range(10):\n",
        " print(\"Cluster %d:\" % i),\n",
        " for ind in order_centroids[i, :10]:\n",
        "  print(' %s' % terms[ind])"
      ],
      "execution_count": 0,
      "outputs": [
        {
          "output_type": "stream",
          "text": [
            "Cluster 0:\n",
            " restaurant\n",
            " bar\n",
            " park\n",
            " great\n",
            " close\n",
            " area\n",
            " street\n",
            " shop\n",
            " best\n",
            " place\n",
            "Cluster 1:\n",
            " mi\n",
            " central\n",
            " square\n",
            " center\n",
            " mi th\n",
            " empire state building\n",
            " state building\n",
            " empire state\n",
            " building\n",
            " empire\n",
            "Cluster 2:\n",
            " landmark stunning architecture\n",
            " hub boasting iconic\n",
            " flaunting highrises bustling\n",
            " flaunting highrises\n",
            " flaunting\n",
            " bar stone street\n",
            " bustle one sidewalk\n",
            " perfect mix fastpaced\n",
            " east river flaunting\n",
            " suburban living historic\n",
            "Cluster 3:\n",
            " new\n",
            " gallery\n",
            " nightlife\n",
            " find\n",
            " store\n",
            " art\n",
            " dynamic\n",
            " thriving\n",
            " subway station\n",
            " subway\n",
            "Cluster 4:\n",
            " minute\n",
            " walk\n",
            " minute walk\n",
            " min\n",
            " park\n",
            " train\n",
            " square\n",
            " min walk\n",
            " central\n",
            " away\n",
            "Cluster 5:\n",
            " street art\n",
            " view\n",
            " provides stunning\n",
            " provides stunning view\n",
            " art\n",
            " hip\n",
            " stunning view\n",
            " drink\n",
            " chic\n",
            " provides\n",
            "Cluster 6:\n",
            " safe\n",
            " quiet\n",
            " quiet safe\n",
            " friendly\n",
            " safe quiet\n",
            " safe friendly\n",
            " safe cool\n",
            " peaceful\n",
            " nice quiet\n",
            " residential\n",
            "Cluster 7:\n",
            " block\n",
            " away\n",
            " block away\n",
            " park\n",
            " restaurant\n",
            " one\n",
            " store\n",
            " one block\n",
            " subway\n",
            " train\n",
            "Cluster 8:\n",
            " walking distance\n",
            " distance\n",
            " walking\n",
            " within walking\n",
            " within walking distance\n",
            " within\n",
            " restaurant\n",
            " park\n",
            " bar\n",
            " shop\n",
            "Cluster 9:\n",
            " website hidden\n",
            " website\n",
            " website hidden airbnb\n",
            " hidden\n",
            " hidden airbnb\n",
            " airbnb\n",
            " explore feel home\n",
            " perfect space explore\n",
            " apartment perfect space\n",
            " space explore feel\n"
          ],
          "name": "stdout"
        }
      ]
    },
    {
      "cell_type": "code",
      "metadata": {
        "id": "gmnrrV4DDxdx",
        "colab_type": "code",
        "colab": {}
      },
      "source": [
        "from sklearn.cluster import KMeans\n",
        "\n",
        "Sum_of_squared_distances = []\n",
        "K = range(5,10)\n",
        "for k in K:\n",
        "    km = KMeans(n_clusters=k)\n",
        "    km = km.fit(review_tfidf_vec)\n",
        "    Sum_of_squared_distances.append(km.inertia_)\n",
        "\n",
        "\n",
        "import matplotlib.pyplot as plt\n"
      ],
      "execution_count": 0,
      "outputs": []
    },
    {
      "cell_type": "code",
      "metadata": {
        "id": "hvjK4whmDxVt",
        "colab_type": "code",
        "colab": {}
      },
      "source": [
        "Sum_of_squared_distances.append(modelkmeans.inertia_)"
      ],
      "execution_count": 0,
      "outputs": []
    },
    {
      "cell_type": "code",
      "metadata": {
        "id": "b4D_HPOyDxbC",
        "colab_type": "code",
        "outputId": "e3d9d9a6-9f99-491d-8acf-54c1a7737774",
        "colab": {
          "base_uri": "https://localhost:8080/",
          "height": 295
        }
      },
      "source": [
        "\n",
        "plt.plot([5,6,7,8,9,10], Sum_of_squared_distances, 'bx-')\n",
        "plt.xlabel('k')\n",
        "plt.ylabel('Sum_of_squared_distances')\n",
        "plt.title('Elbow Method For Optimal k')\n",
        "plt.show()"
      ],
      "execution_count": 0,
      "outputs": [
        {
          "output_type": "display_data",
          "data": {
            "image/png": "[encoded data removed]",
            "text/plain": [
              "<Figure size 432x288 with 1 Axes>"
            ]
          },
          "metadata": {
            "tags": [],
            "needs_background": "light"
          }
        }
      ]
    },
    {
      "cell_type": "code",
      "metadata": {
        "id": "ECy6ren82BBg",
        "colab_type": "code",
        "outputId": "b1025b6e-282d-4569-80c1-c254f19a7218",
        "colab": {
          "base_uri": "https://localhost:8080/",
          "height": 68
        }
      },
      "source": [
        "## Clustering the training sentences with K-means technique\n",
        "## n_clusters = 9, n_init=10\n",
        "from sklearn.cluster import KMeans\n",
        "modelkmeans_9 = KMeans(n_clusters=9, init='k-means++', n_init=10)\n",
        "modelkmeans_9.fit(review_tfidf_vec)"
      ],
      "execution_count": 0,
      "outputs": [
        {
          "output_type": "execute_result",
          "data": {
            "text/plain": [
              "KMeans(algorithm='auto', copy_x=True, init='k-means++', max_iter=300,\n",
              "       n_clusters=9, n_init=10, n_jobs=None, precompute_distances='auto',\n",
              "       random_state=None, tol=0.0001, verbose=0)"
            ]
          },
          "metadata": {
            "tags": []
          },
          "execution_count": 34
        }
      ]
    },
    {
      "cell_type": "code",
      "metadata": {
        "id": "RluO3I_335gM",
        "colab_type": "code",
        "colab": {}
      },
      "source": [
        " order_centroids9 = modelkmeans_9.cluster_centers_.argsort()[:, ::-1]\n",
        "terms9 = tfidf_vec.get_feature_names()"
      ],
      "execution_count": 0,
      "outputs": []
    },
    {
      "cell_type": "code",
      "metadata": {
        "id": "yqEA-XRY4O58",
        "colab_type": "code",
        "outputId": "3b8d37d2-bf61-4d9b-9881-0e4eb6f6746e",
        "colab": {
          "base_uri": "https://localhost:8080/",
          "height": 1000
        }
      },
      "source": [
        "for i in range(9):\n",
        " print(\"Cluster %d:\" % i),\n",
        " for ind in order_centroids9[i, :9]:\n",
        "  print(' %s' % terms9[ind])"
      ],
      "execution_count": 0,
      "outputs": [
        {
          "output_type": "stream",
          "text": [
            "Cluster 0:\n",
            " restaurant\n",
            " bar\n",
            " area\n",
            " street\n",
            " close\n",
            " park\n",
            " great\n",
            " best\n",
            " food\n",
            "Cluster 1:\n",
            " explore feel home\n",
            " space explore feel\n",
            " explore feel\n",
            " perfect space explore\n",
            " apartment perfect space\n",
            " relaxing book\n",
            " perfect space\n",
            " visiting hotspot\n",
            " visiting hotspot shopping\n",
            "Cluster 2:\n",
            " walking distance\n",
            " distance\n",
            " walking\n",
            " central\n",
            " square\n",
            " park\n",
            " within walking\n",
            " within walking distance\n",
            " central park\n",
            "Cluster 3:\n",
            " safe\n",
            " quiet\n",
            " quiet safe\n",
            " friendly\n",
            " safe quiet\n",
            " safe friendly\n",
            " residential\n",
            " safe cool\n",
            " peaceful\n",
            "Cluster 4:\n",
            " minute\n",
            " walk\n",
            " away\n",
            " block\n",
            " min\n",
            " minute walk\n",
            " train\n",
            " block away\n",
            " park\n",
            "Cluster 5:\n",
            " landmark stunning architecture\n",
            " hub boasting iconic\n",
            " flaunting highrises bustling\n",
            " flaunting highrises\n",
            " flaunting\n",
            " bar stone street\n",
            " bustle one sidewalk\n",
            " perfect mix fastpaced\n",
            " east river flaunting\n",
            "Cluster 6:\n",
            " find\n",
            " nice cafe\n",
            " nice\n",
            " find almost everything\n",
            " almost everything need\n",
            " find almost\n",
            " almost everything\n",
            " asian\n",
            " drug store\n",
            "Cluster 7:\n",
            " mi\n",
            " mi th\n",
            " mi th ave\n",
            " art mi\n",
            " th ave\n",
            " center mi\n",
            " park mi\n",
            " hidden\n",
            " square mi\n",
            "Cluster 8:\n",
            " shop\n",
            " coffee\n",
            " coffee shop\n",
            " prospect\n",
            " prospect park\n",
            " park\n",
            " restaurant\n",
            " bar\n",
            " great\n"
          ],
          "name": "stdout"
        }
      ]
    },
    {
      "cell_type": "code",
      "metadata": {
        "id": "BKGkBgXD8fu1",
        "colab_type": "code",
        "outputId": "71a1454a-cadd-4cc8-dabf-abfb4ed758fb",
        "colab": {
          "base_uri": "https://localhost:8080/",
          "height": 139
        }
      },
      "source": [
        "listings['cluster'] = modelkmeans_9.labels_"
      ],
      "execution_count": 0,
      "outputs": [
        {
          "output_type": "stream",
          "text": [
            "/usr/local/lib/python3.6/dist-packages/ipykernel_launcher.py:1: SettingWithCopyWarning: \n",
            "A value is trying to be set on a copy of a slice from a DataFrame.\n",
            "Try using .loc[row_indexer,col_indexer] = value instead\n",
            "\n",
            "See the caveats in the documentation: https://pandas.pydata.org/pandas-docs/stable/user_guide/indexing.html#returning-a-view-versus-a-copy\n",
            "  \"\"\"Entry point for launching an IPython kernel.\n"
          ],
          "name": "stderr"
        }
      ]
    },
    {
      "cell_type": "code",
      "metadata": {
        "id": "Ig7Mr7qFJSCh",
        "colab_type": "code",
        "outputId": "1dbaf793-cf6f-4e9b-d2d6-516ca378dbf8",
        "colab": {
          "base_uri": "https://localhost:8080/",
          "height": 666
        }
      },
      "source": [
        "listings.head()"
      ],
      "execution_count": 0,
      "outputs": [
        {
          "output_type": "execute_result",
          "data": {
            "text/html": [
              "<div>\n",
              "<style scoped>\n",
              "    .dataframe tbody tr th:only-of-type {\n",
              "        vertical-align: middle;\n",
              "    }\n",
              "\n",
              "    .dataframe tbody tr th {\n",
              "        vertical-align: top;\n",
              "    }\n",
              "\n",
              "    .dataframe thead th {\n",
              "        text-align: right;\n",
              "    }\n",
              "</style>\n",
              "<table border=\"1\" class=\"dataframe\">\n",
              "  <thead>\n",
              "    <tr style=\"text-align: right;\">\n",
              "      <th></th>\n",
              "      <th>id</th>\n",
              "      <th>name</th>\n",
              "      <th>summary</th>\n",
              "      <th>space</th>\n",
              "      <th>description</th>\n",
              "      <th>neighborhood_overview</th>\n",
              "      <th>transit</th>\n",
              "      <th>access</th>\n",
              "      <th>neighbourhood</th>\n",
              "      <th>neighbourhood_cleansed</th>\n",
              "      <th>zipcode</th>\n",
              "      <th>market</th>\n",
              "      <th>latitude</th>\n",
              "      <th>longitude</th>\n",
              "      <th>room_type</th>\n",
              "      <th>property_type</th>\n",
              "      <th>number_of_reviews</th>\n",
              "      <th>review_scores_rating</th>\n",
              "      <th>review_scores_location</th>\n",
              "      <th>neighborhood_overview_processed</th>\n",
              "      <th>cluster</th>\n",
              "    </tr>\n",
              "  </thead>\n",
              "  <tbody>\n",
              "    <tr>\n",
              "      <th>1</th>\n",
              "      <td>2595</td>\n",
              "      <td>Skylit Midtown Castle</td>\n",
              "      <td>Beautiful, spacious skylit studio in the heart...</td>\n",
              "      <td>- Spacious (500+ft²), immaculate and nicely fu...</td>\n",
              "      <td>Beautiful, spacious skylit studio in the heart...</td>\n",
              "      <td>centrally located in the heart of  just a few ...</td>\n",
              "      <td>Apartment is located on 37th Street between 5t...</td>\n",
              "      <td>Guests have full access to the kitchen, bathro...</td>\n",
              "      <td>Manhattan</td>\n",
              "      <td>Midtown</td>\n",
              "      <td>10018</td>\n",
              "      <td>New York</td>\n",
              "      <td>40.75362</td>\n",
              "      <td>-73.98377</td>\n",
              "      <td>Entire home/apt</td>\n",
              "      <td>Apartment</td>\n",
              "      <td>48</td>\n",
              "      <td>94.0</td>\n",
              "      <td>10.0</td>\n",
              "      <td>centrally located heart block subway connectio...</td>\n",
              "      <td>4</td>\n",
              "    </tr>\n",
              "    <tr>\n",
              "      <th>2</th>\n",
              "      <td>3831</td>\n",
              "      <td>Cozy Entire Floor of Brownstone</td>\n",
              "      <td>Urban retreat: enjoy 500 s.f. floor in 1899 br...</td>\n",
              "      <td>Greetings!      We own a double-duplex brownst...</td>\n",
              "      <td>Urban retreat: enjoy 500 s.f. floor in 1899 br...</td>\n",
              "      <td>just the right mix of urban center and local ;...</td>\n",
              "      <td>B52 bus for a 10-minute ride to downtown Brook...</td>\n",
              "      <td>You will have the private, exclusive use of an...</td>\n",
              "      <td>Clinton Hill</td>\n",
              "      <td>Clinton Hill</td>\n",
              "      <td>11238</td>\n",
              "      <td>New York</td>\n",
              "      <td>40.68514</td>\n",
              "      <td>-73.95976</td>\n",
              "      <td>Entire home/apt</td>\n",
              "      <td>Guest suite</td>\n",
              "      <td>318</td>\n",
              "      <td>89.0</td>\n",
              "      <td>9.0</td>\n",
              "      <td>right mix urban center local close enough quie...</td>\n",
              "      <td>0</td>\n",
              "    </tr>\n",
              "    <tr>\n",
              "      <th>3</th>\n",
              "      <td>5099</td>\n",
              "      <td>Large Cozy 1 BR Apartment In Midtown East</td>\n",
              "      <td>My large 1 bedroom apartment has a true New Yo...</td>\n",
              "      <td>I have a large 1 bedroom apartment centrally l...</td>\n",
              "      <td>My large 1 bedroom apartment has a true New Yo...</td>\n",
              "      <td>my  in  east is called . the area is very cent...</td>\n",
              "      <td>From the apartment is a 10 minute walk to Gran...</td>\n",
              "      <td>I will meet you upon arrival.</td>\n",
              "      <td>Midtown East</td>\n",
              "      <td>Murray Hill</td>\n",
              "      <td>10016</td>\n",
              "      <td>New York</td>\n",
              "      <td>40.74767</td>\n",
              "      <td>-73.97500</td>\n",
              "      <td>Entire home/apt</td>\n",
              "      <td>Apartment</td>\n",
              "      <td>78</td>\n",
              "      <td>90.0</td>\n",
              "      <td>10.0</td>\n",
              "      <td>east called area centrally located easy access...</td>\n",
              "      <td>4</td>\n",
              "    </tr>\n",
              "    <tr>\n",
              "      <th>5</th>\n",
              "      <td>5178</td>\n",
              "      <td>Large Furnished Room Near B'way</td>\n",
              "      <td>Please don’t expect the luxury here just a bas...</td>\n",
              "      <td>You will use one large, furnished, private roo...</td>\n",
              "      <td>Please don’t expect the luxury here just a bas...</td>\n",
              "      <td>, ma restaurants around here.</td>\n",
              "      <td>NaN</td>\n",
              "      <td>Bathroom is shared with the host but the kitch...</td>\n",
              "      <td>Manhattan</td>\n",
              "      <td>Hell's Kitchen</td>\n",
              "      <td>10019</td>\n",
              "      <td>New York</td>\n",
              "      <td>40.76489</td>\n",
              "      <td>-73.98493</td>\n",
              "      <td>Private room</td>\n",
              "      <td>Apartment</td>\n",
              "      <td>473</td>\n",
              "      <td>84.0</td>\n",
              "      <td>10.0</td>\n",
              "      <td>restaurant around</td>\n",
              "      <td>0</td>\n",
              "    </tr>\n",
              "    <tr>\n",
              "      <th>6</th>\n",
              "      <td>5203</td>\n",
              "      <td>Cozy Clean Guest Room - Family Apt</td>\n",
              "      <td>Our best guests are seeking a safe, clean, spa...</td>\n",
              "      <td>Stay in my family's little  guest room and enj...</td>\n",
              "      <td>Our best guests are seeking a safe, clean, spa...</td>\n",
              "      <td>our  is full of restaurants and cafes.  there ...</td>\n",
              "      <td>The number 1 train stops at 110th Street/Cathe...</td>\n",
              "      <td>Guests will be able to come and go as they nee...</td>\n",
              "      <td>Upper West Side</td>\n",
              "      <td>Upper West Side</td>\n",
              "      <td>10025</td>\n",
              "      <td>New York</td>\n",
              "      <td>40.80178</td>\n",
              "      <td>-73.96723</td>\n",
              "      <td>Private room</td>\n",
              "      <td>Apartment</td>\n",
              "      <td>118</td>\n",
              "      <td>98.0</td>\n",
              "      <td>10.0</td>\n",
              "      <td>full restaurant cafe plenty</td>\n",
              "      <td>0</td>\n",
              "    </tr>\n",
              "  </tbody>\n",
              "</table>\n",
              "</div>"
            ],
            "text/plain": [
              "     id                                       name                                            summary                                              space                                        description                              neighborhood_overview                                            transit                                             access    neighbourhood neighbourhood_cleansed zipcode    market  latitude  longitude        room_type property_type  number_of_reviews  review_scores_rating  review_scores_location                    neighborhood_overview_processed  cluster\n",
              "1  2595                      Skylit Midtown Castle  Beautiful, spacious skylit studio in the heart...  - Spacious (500+ft²), immaculate and nicely fu...  Beautiful, spacious skylit studio in the heart...  centrally located in the heart of  just a few ...  Apartment is located on 37th Street between 5t...  Guests have full access to the kitchen, bathro...        Manhattan                Midtown   10018  New York  40.75362  -73.98377  Entire home/apt     Apartment                 48                  94.0                    10.0  centrally located heart block subway connectio...        4\n",
              "2  3831            Cozy Entire Floor of Brownstone  Urban retreat: enjoy 500 s.f. floor in 1899 br...  Greetings!      We own a double-duplex brownst...  Urban retreat: enjoy 500 s.f. floor in 1899 br...  just the right mix of urban center and local ;...  B52 bus for a 10-minute ride to downtown Brook...  You will have the private, exclusive use of an...     Clinton Hill           Clinton Hill   11238  New York  40.68514  -73.95976  Entire home/apt   Guest suite                318                  89.0                     9.0  right mix urban center local close enough quie...        0\n",
              "3  5099  Large Cozy 1 BR Apartment In Midtown East  My large 1 bedroom apartment has a true New Yo...  I have a large 1 bedroom apartment centrally l...  My large 1 bedroom apartment has a true New Yo...  my  in  east is called . the area is very cent...  From the apartment is a 10 minute walk to Gran...                      I will meet you upon arrival.     Midtown East            Murray Hill   10016  New York  40.74767  -73.97500  Entire home/apt     Apartment                 78                  90.0                    10.0  east called area centrally located easy access...        4\n",
              "5  5178           Large Furnished Room Near B'way   Please don’t expect the luxury here just a bas...  You will use one large, furnished, private roo...  Please don’t expect the luxury here just a bas...                      , ma restaurants around here.                                                NaN  Bathroom is shared with the host but the kitch...        Manhattan         Hell's Kitchen   10019  New York  40.76489  -73.98493     Private room     Apartment                473                  84.0                    10.0                                  restaurant around        0\n",
              "6  5203         Cozy Clean Guest Room - Family Apt  Our best guests are seeking a safe, clean, spa...  Stay in my family's little  guest room and enj...  Our best guests are seeking a safe, clean, spa...  our  is full of restaurants and cafes.  there ...  The number 1 train stops at 110th Street/Cathe...  Guests will be able to come and go as they nee...  Upper West Side        Upper West Side   10025  New York  40.80178  -73.96723     Private room     Apartment                118                  98.0                    10.0                        full restaurant cafe plenty        0"
            ]
          },
          "metadata": {
            "tags": []
          },
          "execution_count": 40
        }
      ]
    },
    {
      "cell_type": "code",
      "metadata": {
        "id": "WSG7g7yQ9vzF",
        "colab_type": "code",
        "colab": {}
      },
      "source": [
        "listings.to_csv('listings_with_label.csv')"
      ],
      "execution_count": 0,
      "outputs": []
    },
    {
      "cell_type": "code",
      "metadata": {
        "id": "NrrUMxxc-fqu",
        "colab_type": "code",
        "colab": {}
      },
      "source": [
        "corpus[-1]"
      ],
      "execution_count": 0,
      "outputs": []
    },
    {
      "cell_type": "code",
      "metadata": {
        "id": "PmI2T8Bo5T5P",
        "colab_type": "code",
        "colab": {}
      },
      "source": [
        "## Vectorize \n",
        "tfidf_vec = TfidfVectorizer(ngram_range=(1, 3))\n",
        "corpus_vec = tfidf_vec.fit_transform(corpus)"
      ],
      "execution_count": 0,
      "outputs": []
    },
    {
      "cell_type": "code",
      "metadata": {
        "id": "icOGKTpN6JoF",
        "colab_type": "code",
        "colab": {}
      },
      "source": [
        "corpus"
      ],
      "execution_count": 0,
      "outputs": []
    },
    {
      "cell_type": "code",
      "metadata": {
        "id": "j20sTMT0_RVA",
        "colab_type": "code",
        "colab": {}
      },
      "source": [
        "### topic modeling\n",
        "from nltk.corpus import stopwords\n",
        "from nltk.stem.wordnet import WordNetLemmatizer\n",
        "import string"
      ],
      "execution_count": 0,
      "outputs": []
    },
    {
      "cell_type": "code",
      "metadata": {
        "id": "wVcvAdMrGxMD",
        "colab_type": "code",
        "colab": {}
      },
      "source": [
        "stop = set(stopwords.words('english'))\n",
        "exclude = set(string.punctuation)\n",
        "lemma = WordNetLemmatizer()"
      ],
      "execution_count": 0,
      "outputs": []
    },
    {
      "cell_type": "code",
      "metadata": {
        "id": "d0NYizlnJRPv",
        "colab_type": "code",
        "colab": {}
      },
      "source": [
        "## exclue neighborhood names \n",
        "nei_names = neighborhoods['neighbourhood'].tolist()\n",
        "result = list(map(lambda x:x.lower(),nei_names))\n",
        "nei_name = set(result)"
      ],
      "execution_count": 0,
      "outputs": []
    },
    {
      "cell_type": "code",
      "metadata": {
        "id": "EJgQ9MoJOhCb",
        "colab_type": "code",
        "outputId": "690a6b6e-b088-4ea9-d08b-c57d659df1c3",
        "colab": {
          "base_uri": "https://localhost:8080/",
          "height": 34
        }
      },
      "source": [
        "boro_names"
      ],
      "execution_count": 0,
      "outputs": [
        {
          "output_type": "execute_result",
          "data": {
            "text/plain": [
              "{'bronx', 'brooklyn', 'manhattan', 'queens', 'staten island'}"
            ]
          },
          "metadata": {
            "tags": []
          },
          "execution_count": 157
        }
      ]
    },
    {
      "cell_type": "code",
      "metadata": {
        "id": "DLBZZs4tKaOp",
        "colab_type": "code",
        "colab": {}
      },
      "source": [
        "##exclue borough names\n",
        "boro_names = neighborhoods['neighbourhood_group'].tolist()\n",
        "boro_names = list(map(lambda x:x.lower(),boro_names))\n",
        "boro_names = set(boro_names)"
      ],
      "execution_count": 0,
      "outputs": []
    },
    {
      "cell_type": "code",
      "metadata": {
        "id": "0HI_9_q1KYQc",
        "colab_type": "code",
        "colab": {}
      },
      "source": [
        "## exclude other unneccessay words\n",
        "excluded_words = set(['centrally','new', 'york','ny','neighborhood','neighbourhood','city','neighbourhood,','neighborhood,','neighborhood;','nyc'])"
      ],
      "execution_count": 0,
      "outputs": []
    },
    {
      "cell_type": "code",
      "metadata": {
        "id": "FcTShi_FTqnA",
        "colab_type": "code",
        "outputId": "1085ffe4-bb30-47e0-fa2f-158b1fb74513",
        "colab": {
          "base_uri": "https://localhost:8080/",
          "height": 34
        }
      },
      "source": [
        "excluded_words "
      ],
      "execution_count": 0,
      "outputs": [
        {
          "output_type": "execute_result",
          "data": {
            "text/plain": [
              "{'centrally', 'city', 'neighborhood', 'neighbourhood', 'new', 'ny', 'york'}"
            ]
          },
          "metadata": {
            "tags": []
          },
          "execution_count": 174
        }
      ]
    },
    {
      "cell_type": "code",
      "metadata": {
        "id": "ETaWpudCGyjd",
        "colab_type": "code",
        "colab": {}
      },
      "source": [
        "def clean(doc):\n",
        "    neighborhood_names_free = \" \".join([word for word in doc.lower().split() if word not in nei_name])\n",
        "    borough_names_free = \" \".join([word for word in neighborhood_names_free.split() if word not in boro_names])\n",
        "    excluded_words_free = \" \".join([word for word in borough_names_free.split() if word not in excluded_words])\n",
        "    print(excluded_words_free)\n",
        "    stop_free = \" \".join([word for word in excluded_words_free.split() if word not in stop])\n",
        "    punc_free = \"\".join(token for token in stop_free if token not in exclude)\n",
        "    normalized = \" \".join(lemma.lemmatize(word) for word in punc_free.split())\n",
        "    return normalized\n"
      ],
      "execution_count": 0,
      "outputs": []
    },
    {
      "cell_type": "code",
      "metadata": {
        "id": "0VBIbJ8xHC2d",
        "colab_type": "code",
        "colab": {}
      },
      "source": [
        "test = listings['neighborhood_overview'].head(300).tolist()"
      ],
      "execution_count": 0,
      "outputs": []
    },
    {
      "cell_type": "code",
      "metadata": {
        "id": "k5LAbTkbG0s8",
        "colab_type": "code",
        "colab": {}
      },
      "source": [
        "doc_clean = [clean(overview).split() for overview in test]"
      ],
      "execution_count": 0,
      "outputs": []
    },
    {
      "cell_type": "code",
      "metadata": {
        "id": "3LtfF_TZMOLx",
        "colab_type": "code",
        "colab": {}
      },
      "source": [
        "doc_clean[0:10]"
      ],
      "execution_count": 0,
      "outputs": []
    },
    {
      "cell_type": "code",
      "metadata": {
        "id": "hg_o0VabHdZv",
        "colab_type": "code",
        "colab": {}
      },
      "source": [
        "from gensim import corpora\n",
        "dictionary = corpora.Dictionary(doc_clean)\n",
        "corpus = [dictionary.doc2bow(text) for text in doc_clean]\n",
        "\n",
        "import pickle "
      ],
      "execution_count": 0,
      "outputs": []
    },
    {
      "cell_type": "code",
      "metadata": {
        "id": "kr2JEIsCHqkr",
        "colab_type": "code",
        "outputId": "909c76bc-d7e5-4006-a72e-9536335dd218",
        "colab": {
          "base_uri": "https://localhost:8080/",
          "height": 187
        }
      },
      "source": [
        "import gensim\n",
        "\n",
        "# let LDA find 3 topics\n",
        "ldamodel = gensim.models.ldamodel.LdaModel(corpus, num_topics=10, id2word=dictionary, passes=15)\n",
        "\n",
        "# uncomment the code if working locally\n",
        "#ldamodel.save('../input/sentimentData/model3.gensim')\n",
        "\n",
        "topics = ldamodel.print_topics(num_words=5)\n",
        "for topic in topics:\n",
        "    print(topic)"
      ],
      "execution_count": 0,
      "outputs": [
        {
          "output_type": "stream",
          "text": [
            "(0, '0.012*\"park\" + 0.010*\"best\" + 0.008*\"diverse\" + 0.007*\"hill\" + 0.007*\"neighborhood\"')\n",
            "(1, '0.013*\"restaurant\" + 0.011*\"•\" + 0.010*\"block\" + 0.010*\"walk\" + 0.010*\"area\"')\n",
            "(2, '0.019*\"restaurant\" + 0.016*\"park\" + 0.012*\"bar\" + 0.010*\"music\" + 0.010*\"place\"')\n",
            "(3, '0.017*\"park\" + 0.016*\"restaurant\" + 0.014*\"street\" + 0.013*\"block\" + 0.013*\"cafe\"')\n",
            "(4, '0.018*\"restaurant\" + 0.017*\"shop\" + 0.015*\"great\" + 0.014*\"park\" + 0.012*\"east\"')\n",
            "(5, '0.018*\"east\" + 0.013*\"street\" + 0.012*\"restaurant\" + 0.011*\"lower\" + 0.011*\"side\"')\n",
            "(6, '0.015*\"restaurant\" + 0.015*\"park\" + 0.013*\"museum\" + 0.012*\"bar\" + 0.011*\"great\"')\n",
            "(7, '0.021*\"greene\" + 0.018*\"fort\" + 0.017*\"neighborhood\" + 0.015*\"restaurant\" + 0.014*\"theater\"')\n",
            "(8, '0.010*\"restaurant\" + 0.009*\"take\" + 0.008*\"street\" + 0.007*\"like\" + 0.006*\"hidden\"')\n",
            "(9, '0.022*\"park\" + 0.020*\"restaurant\" + 0.019*\"block\" + 0.018*\"minute\" + 0.015*\"away\"')\n"
          ],
          "name": "stdout"
        }
      ]
    },
    {
      "cell_type": "markdown",
      "metadata": {
        "id": "2yZuX8SMo2lR",
        "colab_type": "text"
      },
      "source": [
        "## Map the clustering"
      ]
    },
    {
      "cell_type": "code",
      "metadata": {
        "id": "eCL-d2WZpOHJ",
        "colab_type": "code",
        "colab": {}
      },
      "source": [
        "listings.head(3)"
      ],
      "execution_count": 0,
      "outputs": []
    },
    {
      "cell_type": "markdown",
      "metadata": {
        "id": "9EHQgZtt3IT_",
        "colab_type": "text"
      },
      "source": [
        "# Classify each neighborhood"
      ]
    },
    {
      "cell_type": "code",
      "metadata": {
        "id": "bgtrRGdyHsru",
        "colab_type": "code",
        "colab": {}
      },
      "source": [
        "listings = pd.read_csv('listings_with_label.csv',index_col=[0]).drop(['neighborhood_overview_vec'],axis=1)"
      ],
      "execution_count": 0,
      "outputs": []
    },
    {
      "cell_type": "code",
      "metadata": {
        "id": "hW0FGgR52jm7",
        "colab_type": "code",
        "colab": {}
      },
      "source": [
        "neighborhood_overview_list = dict(zip(listings['neighborhood_overview_processed'], listings['neighbourhood']))"
      ],
      "execution_count": 0,
      "outputs": []
    },
    {
      "cell_type": "code",
      "metadata": {
        "id": "fWMXZcEd4_nq",
        "colab_type": "code",
        "colab": {}
      },
      "source": [
        "res = {}\n",
        "for key, val in neighborhood_overview_list.items():\n",
        "    if val not in res:\n",
        "      res[val] = [key]\n",
        "    else:\n",
        "      res[val].append(key)"
      ],
      "execution_count": 0,
      "outputs": []
    },
    {
      "cell_type": "code",
      "metadata": {
        "id": "o7peiukzqCx6",
        "colab_type": "code",
        "colab": {}
      },
      "source": [
        "neighborhood_overview = pd.DataFrame(list(res.items()), columns=['neighborhood','overviews'])"
      ],
      "execution_count": 0,
      "outputs": []
    },
    {
      "cell_type": "code",
      "metadata": {
        "id": "SM7qzegx3RT8",
        "colab_type": "code",
        "outputId": "74220bc8-e21e-45ed-83c6-f3a519bc882f",
        "colab": {
          "base_uri": "https://localhost:8080/",
          "height": 111
        }
      },
      "source": [
        "neighborhood_overview.head(2)"
      ],
      "execution_count": 0,
      "outputs": [
        {
          "output_type": "execute_result",
          "data": {
            "text/html": [
              "<div>\n",
              "<style scoped>\n",
              "    .dataframe tbody tr th:only-of-type {\n",
              "        vertical-align: middle;\n",
              "    }\n",
              "\n",
              "    .dataframe tbody tr th {\n",
              "        vertical-align: top;\n",
              "    }\n",
              "\n",
              "    .dataframe thead th {\n",
              "        text-align: right;\n",
              "    }\n",
              "</style>\n",
              "<table border=\"1\" class=\"dataframe\">\n",
              "  <thead>\n",
              "    <tr style=\"text-align: right;\">\n",
              "      <th></th>\n",
              "      <th>neighborhood</th>\n",
              "      <th>overviews</th>\n",
              "    </tr>\n",
              "  </thead>\n",
              "  <tbody>\n",
              "    <tr>\n",
              "      <th>0</th>\n",
              "      <td>Manhattan</td>\n",
              "      <td>centrally located heart block subway connectio...</td>\n",
              "    </tr>\n",
              "    <tr>\n",
              "      <th>1</th>\n",
              "      <td>Clinton Hill</td>\n",
              "      <td>right mix urban center local close enough quie...</td>\n",
              "    </tr>\n",
              "  </tbody>\n",
              "</table>\n",
              "</div>"
            ],
            "text/plain": [
              "   neighborhood                                          overviews\n",
              "0     Manhattan  centrally located heart block subway connectio...\n",
              "1  Clinton Hill  right mix urban center local close enough quie..."
            ]
          },
          "metadata": {
            "tags": []
          },
          "execution_count": 13
        }
      ]
    },
    {
      "cell_type": "code",
      "metadata": {
        "id": "S0K2YZiJ7wlv",
        "colab_type": "code",
        "colab": {}
      },
      "source": [
        "neighborhood_overview['overviews'] = [','.join(map(str, l)) for l in neighborhood_overview['overviews']]"
      ],
      "execution_count": 0,
      "outputs": []
    },
    {
      "cell_type": "code",
      "metadata": {
        "id": "cliu3Vrv84sg",
        "colab_type": "code",
        "colab": {}
      },
      "source": [
        "neighborhood_overview['overviews'] = neighborhood_overview['overviews'].str.replace(r\"[\\\"\\',]\",'')"
      ],
      "execution_count": 0,
      "outputs": []
    },
    {
      "cell_type": "code",
      "metadata": {
        "id": "qoc0qwmP-UPa",
        "colab_type": "code",
        "colab": {}
      },
      "source": [
        "## vectorize \n",
        "#Vectorisation : -\n",
        "neighborhood_overview_corpus = []\n",
        "for index, row in neighborhood_overview.iterrows():\n",
        "  overviews = row.overviews\n",
        "  neighborhood_overview_corpus.append(overviews)\n"
      ],
      "execution_count": 0,
      "outputs": []
    },
    {
      "cell_type": "code",
      "metadata": {
        "id": "gq4K_gqqBBdp",
        "colab_type": "code",
        "colab": {}
      },
      "source": [
        "tfidf_vec_nei = TfidfVectorizer(ngram_range=(1, 3))\n",
        "nei_review_tfidf_vec = tfidf_vec_nei.fit_transform(neighborhood_overview_corpus)"
      ],
      "execution_count": 0,
      "outputs": []
    },
    {
      "cell_type": "code",
      "metadata": {
        "id": "7esFFDW4K6zW",
        "colab_type": "code",
        "outputId": "8b146640-ebc1-4735-ae38-3a21f732ae55",
        "colab": {
          "base_uri": "https://localhost:8080/",
          "height": 68
        }
      },
      "source": [
        "from sklearn.cluster import KMeans\n",
        "modelkmeans_nei = KMeans(n_clusters=9, init='k-means++', n_init=10)\n",
        "modelkmeans_nei.fit(nei_review_tfidf_vec)"
      ],
      "execution_count": 0,
      "outputs": [
        {
          "output_type": "execute_result",
          "data": {
            "text/plain": [
              "KMeans(algorithm='auto', copy_x=True, init='k-means++', max_iter=300,\n",
              "       n_clusters=9, n_init=10, n_jobs=None, precompute_distances='auto',\n",
              "       random_state=None, tol=0.0001, verbose=0)"
            ]
          },
          "metadata": {
            "tags": []
          },
          "execution_count": 45
        }
      ]
    },
    {
      "cell_type": "code",
      "metadata": {
        "id": "E9iUiYMgBNF_",
        "colab_type": "code",
        "colab": {}
      },
      "source": [
        "order_centroids_nei = modelkmeans_nei.cluster_centers_.argsort()[:, ::-1]\n",
        "terms_nei = tfidf_vec_nei.get_feature_names()"
      ],
      "execution_count": 0,
      "outputs": []
    },
    {
      "cell_type": "code",
      "metadata": {
        "id": "jbCNJbjWMOY8",
        "colab_type": "code",
        "outputId": "fab18904-a6c1-4547-aa33-959ff6a5222b",
        "colab": {
          "base_uri": "https://localhost:8080/",
          "height": 34
        }
      },
      "source": [
        "len(terms_nei )"
      ],
      "execution_count": 0,
      "outputs": [
        {
          "output_type": "execute_result",
          "data": {
            "text/plain": [
              "929655"
            ]
          },
          "metadata": {
            "tags": []
          },
          "execution_count": 56
        }
      ]
    },
    {
      "cell_type": "code",
      "metadata": {
        "id": "KxlNxeB9L1Ql",
        "colab_type": "code",
        "outputId": "5b94fff8-5f30-4715-89e5-ef4e11ddb245",
        "colab": {
          "base_uri": "https://localhost:8080/",
          "height": 1000
        }
      },
      "source": [
        "for i in range(9):\n",
        " print(\"Cluster %d:\" % i),\n",
        " for ind in order_centroids_nei[i, :9]:\n",
        "  print(' %s' % terms_nei[ind])"
      ],
      "execution_count": 0,
      "outputs": [
        {
          "output_type": "stream",
          "text": [
            "Cluster 0:\n",
            " feel bustle\n",
            " house deck\n",
            " street house deck\n",
            " within walking distanceloved\n",
            " living close proximity\n",
            " walking distanceloved\n",
            " walking distanceloved living\n",
            " house deck backyard\n",
            " much relaxing feel\n",
            "Cluster 1:\n",
            " restaurant\n",
            " bar\n",
            " street\n",
            " park\n",
            " block\n",
            " walk\n",
            " square\n",
            " shop\n",
            " minute\n",
            "Cluster 2:\n",
            " park\n",
            " restaurant\n",
            " columbia\n",
            " tryon\n",
            " block\n",
            " height\n",
            " cloister\n",
            " university\n",
            " de\n",
            "Cluster 3:\n",
            " prospect\n",
            " prospect park\n",
            " park\n",
            " restaurant\n",
            " bar\n",
            " block\n",
            " walk\n",
            " shop\n",
            " minute\n",
            "Cluster 4:\n",
            " central\n",
            " park\n",
            " restaurant\n",
            " central park\n",
            " block\n",
            " square\n",
            " walk\n",
            " minute\n",
            " away\n",
            "Cluster 5:\n",
            " zoo\n",
            " botanical\n",
            " zoo botanical\n",
            " botanical garden\n",
            " zoo botanical garden\n",
            " garden\n",
            " bay plaza\n",
            " pelham\n",
            " pelham parkway\n",
            "Cluster 6:\n",
            " transportation restaurant shopping\n",
            " bridge mall\n",
            " ferry verrazano bridge\n",
            " ferry verrazano\n",
            " verrazano bridge mall\n",
            " public transportation restaurant\n",
            " restaurant shopping center\n",
            " transportation restaurant\n",
            " verrazano bridge\n",
            "Cluster 7:\n",
            " clove lake\n",
            " clove lake park\n",
            " lake park\n",
            " clove\n",
            " end\n",
            " lake\n",
            " one end park\n",
            " ferry brings\n",
            " love live dead\n",
            "Cluster 8:\n",
            " restaurant\n",
            " minute\n",
            " park\n",
            " away\n",
            " min\n",
            " block\n",
            " walk\n",
            " train\n",
            " store\n"
          ],
          "name": "stdout"
        }
      ]
    },
    {
      "cell_type": "code",
      "metadata": {
        "id": "-qO2EfwtNFRd",
        "colab_type": "code",
        "colab": {}
      },
      "source": [
        "neighborhood_overview['cluster'] = modelkmeans_nei.labels_"
      ],
      "execution_count": 0,
      "outputs": []
    },
    {
      "cell_type": "code",
      "metadata": {
        "id": "Cj9zaP2TJ_W_",
        "colab_type": "code",
        "outputId": "ca8973aa-225f-4031-c9ed-8fed48aa7f2e",
        "colab": {
          "base_uri": "https://localhost:8080/",
          "height": 51
        }
      },
      "source": [
        "nei_review_tfidf_vec"
      ],
      "execution_count": 0,
      "outputs": [
        {
          "output_type": "execute_result",
          "data": {
            "text/plain": [
              "<194x929655 sparse matrix of type '<class 'numpy.float64'>'\n",
              "\twith 1314265 stored elements in Compressed Sparse Row format>"
            ]
          },
          "metadata": {
            "tags": []
          },
          "execution_count": 44
        }
      ]
    },
    {
      "cell_type": "code",
      "metadata": {
        "id": "auSE7mmnKF8q",
        "colab_type": "code",
        "colab": {}
      },
      "source": [
        ""
      ],
      "execution_count": 0,
      "outputs": []
    },
    {
      "cell_type": "markdown",
      "metadata": {
        "id": "6Hk25ceXsaWD",
        "colab_type": "text"
      },
      "source": [
        "# Neighborhood with different cluster counts"
      ]
    },
    {
      "cell_type": "code",
      "metadata": {
        "id": "ytr_e75_sj0T",
        "colab_type": "code",
        "colab": {}
      },
      "source": [
        "listings = pd.read_csv('listings_with_label.csv',index_col=[0])"
      ],
      "execution_count": 0,
      "outputs": []
    },
    {
      "cell_type": "code",
      "metadata": {
        "id": "64GD7fuWsvVF",
        "colab_type": "code",
        "colab": {}
      },
      "source": [
        "nei_cluster = listings[['neighbourhood_cleansed','cluster']]"
      ],
      "execution_count": 0,
      "outputs": []
    },
    {
      "cell_type": "code",
      "metadata": {
        "id": "cX9RuL4q2qPW",
        "colab_type": "code",
        "colab": {}
      },
      "source": [
        "neighborhoods = nei_cluster['neighbourhood_cleansed'].unique()"
      ],
      "execution_count": 0,
      "outputs": []
    },
    {
      "cell_type": "code",
      "metadata": {
        "id": "TyJmQDHJ0nsc",
        "colab_type": "code",
        "outputId": "b45eb9f9-520a-4593-f8fd-f13e5d3c042e",
        "colab": {
          "base_uri": "https://localhost:8080/",
          "height": 34
        }
      },
      "source": [
        "nei_cluster[nei_cluster['neighbourhood_cleansed']=='Midtown']['cluster'].value_counts().to_dict()"
      ],
      "execution_count": 0,
      "outputs": [
        {
          "output_type": "execute_result",
          "data": {
            "text/plain": [
              "{0: 432, 2: 356, 4: 114, 7: 37, 8: 9}"
            ]
          },
          "metadata": {
            "tags": []
          },
          "execution_count": 95
        }
      ]
    },
    {
      "cell_type": "code",
      "metadata": {
        "id": "psO77XIP1QoS",
        "colab_type": "code",
        "colab": {}
      },
      "source": [
        "nei_dict = {}\n",
        "for each in neighborhoods:\n",
        "  value = nei_cluster[nei_cluster['neighbourhood_cleansed']==each]['cluster'].value_counts().to_dict()\n",
        "  nei_dict.update({each:value})"
      ],
      "execution_count": 0,
      "outputs": []
    },
    {
      "cell_type": "code",
      "metadata": {
        "id": "7fT2q3ax333A",
        "colab_type": "code",
        "colab": {}
      },
      "source": [
        "neighborhood_cluster = pd.DataFrame(list(nei_dict.items()), columns=['neighborhood','clusters'])"
      ],
      "execution_count": 0,
      "outputs": []
    },
    {
      "cell_type": "code",
      "metadata": {
        "id": "oeaRVlhe5ftY",
        "colab_type": "code",
        "colab": {}
      },
      "source": [
        "neighborhood_cluster = pd.concat([neighborhood_cluster.drop(['clusters'], axis=1), neighborhood_cluster['clusters'].apply(pd.Series)], axis=1)"
      ],
      "execution_count": 0,
      "outputs": []
    },
    {
      "cell_type": "code",
      "metadata": {
        "id": "TMXBq7GR28nX",
        "colab_type": "code",
        "colab": {}
      },
      "source": [
        "neighborhood_cluster = neighborhood_cluster.fillna(0)"
      ],
      "execution_count": 0,
      "outputs": []
    },
    {
      "cell_type": "code",
      "metadata": {
        "id": "eNvlIeyD4xua",
        "colab_type": "code",
        "colab": {}
      },
      "source": [
        "neighborhood_cluster.to_csv('neighborhood_cluster_counts.csv')"
      ],
      "execution_count": 0,
      "outputs": []
    },
    {
      "cell_type": "markdown",
      "metadata": {
        "id": "Vv7SAlKO-m4g",
        "colab_type": "text"
      },
      "source": [
        "# Listings with comments"
      ]
    },
    {
      "cell_type": "code",
      "metadata": {
        "id": "A4xlZKra6SQV",
        "colab_type": "code",
        "outputId": "fdce0b14-fdd2-4ee2-b67b-eab24f560057",
        "colab": {
          "base_uri": "https://localhost:8080/",
          "height": 204
        }
      },
      "source": [
        "!pip install langdetect"
      ],
      "execution_count": 3,
      "outputs": [
        {
          "output_type": "stream",
          "text": [
            "Collecting langdetect\n",
            "\u001b[?25l  Downloading https://files.pythonhosted.org/packages/56/a3/8407c1e62d5980188b4acc45ef3d94b933d14a2ebc9ef3505f22cf772570/langdetect-1.0.8.tar.gz (981kB)\n",
            "\u001b[K     |████████████████████████████████| 983kB 2.8MB/s \n",
            "\u001b[?25hRequirement already satisfied: six in /usr/local/lib/python3.6/dist-packages (from langdetect) (1.12.0)\n",
            "Building wheels for collected packages: langdetect\n",
            "  Building wheel for langdetect (setup.py) ... \u001b[?25l\u001b[?25hdone\n",
            "  Created wheel for langdetect: filename=langdetect-1.0.8-cp36-none-any.whl size=993193 sha256=e143210a48ed445ded4a95fb5c64f171a1d7789086627579e4be8d34ec575716\n",
            "  Stored in directory: /root/.cache/pip/wheels/8d/b3/aa/6d99de9f3841d7d3d40a60ea06e6d669e8e5012e6c8b947a57\n",
            "Successfully built langdetect\n",
            "Installing collected packages: langdetect\n",
            "Successfully installed langdetect-1.0.8\n"
          ],
          "name": "stdout"
        }
      ]
    },
    {
      "cell_type": "code",
      "metadata": {
        "id": "5Vzf5v0Ei7T-",
        "colab_type": "code",
        "colab": {}
      },
      "source": [
        "reviews = reviews[reviews['date']>='1/1/2018']"
      ],
      "execution_count": 0,
      "outputs": []
    },
    {
      "cell_type": "code",
      "metadata": {
        "id": "m_Y8GLFREiVY",
        "colab_type": "code",
        "colab": {}
      },
      "source": [
        "# select only English reviews\n",
        "from langdetect import detect\n",
        "def language_detection(text):\n",
        "    try:\n",
        "        return detect(text)\n",
        "    except:\n",
        "        return None"
      ],
      "execution_count": 0,
      "outputs": []
    },
    {
      "cell_type": "code",
      "metadata": {
        "id": "HKgjoyVujXI7",
        "colab_type": "code",
        "outputId": "b7e42c3c-6c64-4131-9198-152fa41330ab",
        "colab": {
          "base_uri": "https://localhost:8080/",
          "height": 34
        }
      },
      "source": [
        "reviews.shape"
      ],
      "execution_count": 0,
      "outputs": [
        {
          "output_type": "execute_result",
          "data": {
            "text/plain": [
              "(782190, 5)"
            ]
          },
          "metadata": {
            "tags": []
          },
          "execution_count": 8
        }
      ]
    },
    {
      "cell_type": "code",
      "metadata": {
        "id": "78ngGF8wjlOV",
        "colab_type": "code",
        "colab": {}
      },
      "source": [
        "reviews_sample = reviews.sample(frac=.5)"
      ],
      "execution_count": 0,
      "outputs": []
    },
    {
      "cell_type": "code",
      "metadata": {
        "id": "2FCoII63j0HS",
        "colab_type": "code",
        "outputId": "f05599bd-570e-4879-f250-c3062efb2c1a",
        "colab": {
          "base_uri": "https://localhost:8080/",
          "height": 34
        }
      },
      "source": [
        "reviews_sample.shape"
      ],
      "execution_count": 0,
      "outputs": [
        {
          "output_type": "execute_result",
          "data": {
            "text/plain": [
              "(391095, 5)"
            ]
          },
          "metadata": {
            "tags": []
          },
          "execution_count": 10
        }
      ]
    },
    {
      "cell_type": "code",
      "metadata": {
        "id": "pDVduK7aE8zS",
        "colab_type": "code",
        "outputId": "1ec15143-6cef-48b5-93b9-9a2a44b4d2e9",
        "colab": {
          "base_uri": "https://localhost:8080/",
          "height": 51
        }
      },
      "source": [
        "%%time\n",
        "reviews_sample['language'] = reviews_sample['comments'].apply(language_detection)"
      ],
      "execution_count": 0,
      "outputs": [
        {
          "output_type": "stream",
          "text": [
            "CPU times: user 27min 22s, sys: 19.2 s, total: 27min 41s\n",
            "Wall time: 27min 42s\n"
          ],
          "name": "stdout"
        }
      ]
    },
    {
      "cell_type": "code",
      "metadata": {
        "id": "b3nwCnHCFCgA",
        "colab_type": "code",
        "colab": {}
      },
      "source": [
        "reviews_sample = reviews_sample[reviews_sample['language']=='en']"
      ],
      "execution_count": 0,
      "outputs": []
    },
    {
      "cell_type": "code",
      "metadata": {
        "id": "rG5JDyezPE8R",
        "colab_type": "code",
        "colab": {}
      },
      "source": [
        "reviews_sample.to_csv('reviews_sample.csv')"
      ],
      "execution_count": 0,
      "outputs": []
    },
    {
      "cell_type": "code",
      "metadata": {
        "id": "iEBeCQ19fr-z",
        "colab_type": "code",
        "colab": {}
      },
      "source": [
        "reviews_sample = pd.read_csv('reviews_sample.csv',index_col=[0])"
      ],
      "execution_count": 0,
      "outputs": []
    },
    {
      "cell_type": "code",
      "metadata": {
        "id": "kB7ARviJgVPU",
        "colab_type": "code",
        "colab": {
          "base_uri": "https://localhost:8080/",
          "height": 232
        },
        "outputId": "68045a97-a233-4506-bfbd-e27e773ea9c8"
      },
      "source": [
        "### Pre cleaning:\n",
        "\"\"\"\n",
        "    +1. Remove all neighborhood names\n",
        "    +1. Remove all boro names\n",
        "    +1. Remove all other unnecessary words\n",
        "  \"\"\"\n",
        "boro_names = neighborhoods['neighbourhood_group'].unique().tolist()\n",
        "boro_names = list(map(lambda x:x.lower(),boro_names))\n",
        "nei_names = neighborhoods['neighbourhood'].unique().tolist()\n",
        "nei_names = list(map(lambda x:x.lower(),nei_names))\n",
        "## exclude other unneccessay words\n",
        "excluded_words = ['ny','city','nyc','new york',' new york city']\n",
        "\n",
        "### combine to a list of unwanted words\n",
        "unwanted_words = boro_names + nei_names + excluded_words\n"
      ],
      "execution_count": 6,
      "outputs": [
        {
          "output_type": "error",
          "ename": "NameError",
          "evalue": "ignored",
          "traceback": [
            "\u001b[0;31m---------------------------------------------------------------------------\u001b[0m",
            "\u001b[0;31mNameError\u001b[0m                                 Traceback (most recent call last)",
            "\u001b[0;32m<ipython-input-6-834e7a5896e4>\u001b[0m in \u001b[0;36m<module>\u001b[0;34m()\u001b[0m\n\u001b[1;32m      5\u001b[0m     \u001b[0;34m+\u001b[0m\u001b[0;36m1.\u001b[0m \u001b[0mRemove\u001b[0m \u001b[0mall\u001b[0m \u001b[0mother\u001b[0m \u001b[0munnecessary\u001b[0m \u001b[0mwords\u001b[0m\u001b[0;34m\u001b[0m\u001b[0;34m\u001b[0m\u001b[0m\n\u001b[1;32m      6\u001b[0m   \"\"\"\n\u001b[0;32m----> 7\u001b[0;31m \u001b[0mboro_names\u001b[0m \u001b[0;34m=\u001b[0m \u001b[0mneighborhoods\u001b[0m\u001b[0;34m[\u001b[0m\u001b[0;34m'neighbourhood_group'\u001b[0m\u001b[0;34m]\u001b[0m\u001b[0;34m.\u001b[0m\u001b[0munique\u001b[0m\u001b[0;34m(\u001b[0m\u001b[0;34m)\u001b[0m\u001b[0;34m.\u001b[0m\u001b[0mtolist\u001b[0m\u001b[0;34m(\u001b[0m\u001b[0;34m)\u001b[0m\u001b[0;34m\u001b[0m\u001b[0;34m\u001b[0m\u001b[0m\n\u001b[0m\u001b[1;32m      8\u001b[0m \u001b[0mboro_names\u001b[0m \u001b[0;34m=\u001b[0m \u001b[0mlist\u001b[0m\u001b[0;34m(\u001b[0m\u001b[0mmap\u001b[0m\u001b[0;34m(\u001b[0m\u001b[0;32mlambda\u001b[0m \u001b[0mx\u001b[0m\u001b[0;34m:\u001b[0m\u001b[0mx\u001b[0m\u001b[0;34m.\u001b[0m\u001b[0mlower\u001b[0m\u001b[0;34m(\u001b[0m\u001b[0;34m)\u001b[0m\u001b[0;34m,\u001b[0m\u001b[0mboro_names\u001b[0m\u001b[0;34m)\u001b[0m\u001b[0;34m)\u001b[0m\u001b[0;34m\u001b[0m\u001b[0;34m\u001b[0m\u001b[0m\n\u001b[1;32m      9\u001b[0m \u001b[0mnei_names\u001b[0m \u001b[0;34m=\u001b[0m \u001b[0mneighborhoods\u001b[0m\u001b[0;34m[\u001b[0m\u001b[0;34m'neighbourhood'\u001b[0m\u001b[0;34m]\u001b[0m\u001b[0;34m.\u001b[0m\u001b[0munique\u001b[0m\u001b[0;34m(\u001b[0m\u001b[0;34m)\u001b[0m\u001b[0;34m.\u001b[0m\u001b[0mtolist\u001b[0m\u001b[0;34m(\u001b[0m\u001b[0;34m)\u001b[0m\u001b[0;34m\u001b[0m\u001b[0;34m\u001b[0m\u001b[0m\n",
            "\u001b[0;31mNameError\u001b[0m: name 'neighborhoods' is not defined"
          ]
        }
      ]
    },
    {
      "cell_type": "code",
      "metadata": {
        "id": "lyesm0WIgxRG",
        "colab_type": "code",
        "colab": {}
      },
      "source": [
        "reviews_sample['comments'] = reviews_sample['comments'].str.lower().replace('|'.join(unwanted_words),'',regex=True)"
      ],
      "execution_count": 0,
      "outputs": []
    },
    {
      "cell_type": "code",
      "metadata": {
        "id": "FSpdcaD7g0Yi",
        "colab_type": "code",
        "outputId": "4e1913ec-c96d-4541-ebbc-380a209a42cf",
        "colab": {
          "base_uri": "https://localhost:8080/",
          "height": 450
        }
      },
      "source": [
        "reviews_sample[reviews_sample['comments'].str.contains('neighborhood')]"
      ],
      "execution_count": 0,
      "outputs": [
        {
          "output_type": "execute_result",
          "data": {
            "text/html": [
              "<div>\n",
              "<style scoped>\n",
              "    .dataframe tbody tr th:only-of-type {\n",
              "        vertical-align: middle;\n",
              "    }\n",
              "\n",
              "    .dataframe tbody tr th {\n",
              "        vertical-align: top;\n",
              "    }\n",
              "\n",
              "    .dataframe thead th {\n",
              "        text-align: right;\n",
              "    }\n",
              "</style>\n",
              "<table border=\"1\" class=\"dataframe\">\n",
              "  <thead>\n",
              "    <tr style=\"text-align: right;\">\n",
              "      <th></th>\n",
              "      <th>id</th>\n",
              "      <th>date</th>\n",
              "      <th>reviewer_id</th>\n",
              "      <th>reviewer_name</th>\n",
              "      <th>comments</th>\n",
              "      <th>language</th>\n",
              "    </tr>\n",
              "    <tr>\n",
              "      <th>listing_id</th>\n",
              "      <th></th>\n",
              "      <th></th>\n",
              "      <th></th>\n",
              "      <th></th>\n",
              "      <th></th>\n",
              "      <th></th>\n",
              "    </tr>\n",
              "  </thead>\n",
              "  <tbody>\n",
              "    <tr>\n",
              "      <th>16428954</th>\n",
              "      <td>424302217</td>\n",
              "      <td>2019-03-16</td>\n",
              "      <td>240965795</td>\n",
              "      <td>Sue</td>\n",
              "      <td>gino was a very nice host. very friendly to ou...</td>\n",
              "      <td>en</td>\n",
              "    </tr>\n",
              "    <tr>\n",
              "      <th>29260051</th>\n",
              "      <td>493460406</td>\n",
              "      <td>2019-07-22</td>\n",
              "      <td>253075879</td>\n",
              "      <td>Stefano</td>\n",
              "      <td>our experience was great!\\nthe apartment is in...</td>\n",
              "      <td>en</td>\n",
              "    </tr>\n",
              "    <tr>\n",
              "      <th>6853271</th>\n",
              "      <td>558957627</td>\n",
              "      <td>2019-11-03</td>\n",
              "      <td>65890255</td>\n",
              "      <td>Emilie</td>\n",
              "      <td>had a wonderful experience staying at maria’s ...</td>\n",
              "      <td>en</td>\n",
              "    </tr>\n",
              "    <tr>\n",
              "      <th>7610785</th>\n",
              "      <td>280122162</td>\n",
              "      <td>2018-06-22</td>\n",
              "      <td>64629679</td>\n",
              "      <td>Danielle</td>\n",
              "      <td>kaylee is a wonderful host, quickly replying a...</td>\n",
              "      <td>en</td>\n",
              "    </tr>\n",
              "    <tr>\n",
              "      <th>4766618</th>\n",
              "      <td>254644621</td>\n",
              "      <td>2018-04-17</td>\n",
              "      <td>9312401</td>\n",
              "      <td>Lindsay</td>\n",
              "      <td>curtis has a great place in a safe neighborhoo...</td>\n",
              "      <td>en</td>\n",
              "    </tr>\n",
              "    <tr>\n",
              "      <th>...</th>\n",
              "      <td>...</td>\n",
              "      <td>...</td>\n",
              "      <td>...</td>\n",
              "      <td>...</td>\n",
              "      <td>...</td>\n",
              "      <td>...</td>\n",
              "    </tr>\n",
              "    <tr>\n",
              "      <th>21326923</th>\n",
              "      <td>591542235</td>\n",
              "      <td>2020-01-11</td>\n",
              "      <td>162770276</td>\n",
              "      <td>Nkandu</td>\n",
              "      <td>the place was exactly as described.. very clea...</td>\n",
              "      <td>en</td>\n",
              "    </tr>\n",
              "    <tr>\n",
              "      <th>3709582</th>\n",
              "      <td>552443781</td>\n",
              "      <td>2019-10-21</td>\n",
              "      <td>29024960</td>\n",
              "      <td>Lisa</td>\n",
              "      <td>super clean and cute place, convenient to the ...</td>\n",
              "      <td>en</td>\n",
              "    </tr>\n",
              "    <tr>\n",
              "      <th>30234593</th>\n",
              "      <td>485849803</td>\n",
              "      <td>2019-07-11</td>\n",
              "      <td>268163825</td>\n",
              "      <td>Samia</td>\n",
              "      <td>the cleanliness is the mo of this house, wouao...</td>\n",
              "      <td>en</td>\n",
              "    </tr>\n",
              "    <tr>\n",
              "      <th>17812919</th>\n",
              "      <td>423919927</td>\n",
              "      <td>2019-03-15</td>\n",
              "      <td>227356476</td>\n",
              "      <td>Talia</td>\n",
              "      <td>the apartment is beautiful and the host(s) are...</td>\n",
              "      <td>en</td>\n",
              "    </tr>\n",
              "    <tr>\n",
              "      <th>24267208</th>\n",
              "      <td>467621043</td>\n",
              "      <td>2019-06-10</td>\n",
              "      <td>11523450</td>\n",
              "      <td>Alonso</td>\n",
              "      <td>great place to stay, super fun and different n...</td>\n",
              "      <td>en</td>\n",
              "    </tr>\n",
              "  </tbody>\n",
              "</table>\n",
              "<p>28960 rows × 6 columns</p>\n",
              "</div>"
            ],
            "text/plain": [
              "                   id        date  reviewer_id reviewer_name                                           comments language\n",
              "listing_id                                                                                                              \n",
              "16428954    424302217  2019-03-16    240965795           Sue  gino was a very nice host. very friendly to ou...       en\n",
              "29260051    493460406  2019-07-22    253075879       Stefano  our experience was great!\\nthe apartment is in...       en\n",
              "6853271     558957627  2019-11-03     65890255        Emilie  had a wonderful experience staying at maria’s ...       en\n",
              "7610785     280122162  2018-06-22     64629679      Danielle  kaylee is a wonderful host, quickly replying a...       en\n",
              "4766618     254644621  2018-04-17      9312401       Lindsay  curtis has a great place in a safe neighborhoo...       en\n",
              "...               ...         ...          ...           ...                                                ...      ...\n",
              "21326923    591542235  2020-01-11    162770276        Nkandu  the place was exactly as described.. very clea...       en\n",
              "3709582     552443781  2019-10-21     29024960          Lisa  super clean and cute place, convenient to the ...       en\n",
              "30234593    485849803  2019-07-11    268163825         Samia  the cleanliness is the mo of this house, wouao...       en\n",
              "17812919    423919927  2019-03-15    227356476         Talia  the apartment is beautiful and the host(s) are...       en\n",
              "24267208    467621043  2019-06-10     11523450        Alonso  great place to stay, super fun and different n...       en\n",
              "\n",
              "[28960 rows x 6 columns]"
            ]
          },
          "metadata": {
            "tags": []
          },
          "execution_count": 30
        }
      ]
    },
    {
      "cell_type": "code",
      "metadata": {
        "id": "X5kZb1BWjtSD",
        "colab_type": "code",
        "colab": {}
      },
      "source": [
        "reviews_sample['comments_processed'] = reviews_sample['comments'].apply(lambda x: text_process(x)).apply(lambda x: ', '.join([str(i) for i in x])).str.replace(',','')"
      ],
      "execution_count": 0,
      "outputs": []
    },
    {
      "cell_type": "code",
      "metadata": {
        "id": "0Pk2fr1YkJKS",
        "colab_type": "code",
        "outputId": "306c0553-bb71-4a96-d92d-1851dbd7c830",
        "colab": {
          "base_uri": "https://localhost:8080/",
          "height": 620
        }
      },
      "source": [
        "reviews_sample"
      ],
      "execution_count": 0,
      "outputs": [
        {
          "output_type": "execute_result",
          "data": {
            "text/html": [
              "<div>\n",
              "<style scoped>\n",
              "    .dataframe tbody tr th:only-of-type {\n",
              "        vertical-align: middle;\n",
              "    }\n",
              "\n",
              "    .dataframe tbody tr th {\n",
              "        vertical-align: top;\n",
              "    }\n",
              "\n",
              "    .dataframe thead th {\n",
              "        text-align: right;\n",
              "    }\n",
              "</style>\n",
              "<table border=\"1\" class=\"dataframe\">\n",
              "  <thead>\n",
              "    <tr style=\"text-align: right;\">\n",
              "      <th></th>\n",
              "      <th>id</th>\n",
              "      <th>date</th>\n",
              "      <th>reviewer_id</th>\n",
              "      <th>reviewer_name</th>\n",
              "      <th>comments</th>\n",
              "      <th>language</th>\n",
              "      <th>comments_processed</th>\n",
              "    </tr>\n",
              "    <tr>\n",
              "      <th>listing_id</th>\n",
              "      <th></th>\n",
              "      <th></th>\n",
              "      <th></th>\n",
              "      <th></th>\n",
              "      <th></th>\n",
              "      <th></th>\n",
              "      <th></th>\n",
              "    </tr>\n",
              "  </thead>\n",
              "  <tbody>\n",
              "    <tr>\n",
              "      <th>17774810</th>\n",
              "      <td>579841237</td>\n",
              "      <td>2019-12-21</td>\n",
              "      <td>308718388</td>\n",
              "      <td>Armando</td>\n",
              "      <td>good place to stay overall. the only thing hor...</td>\n",
              "      <td>en</td>\n",
              "      <td>good place stay overall thing horrible parking...</td>\n",
              "    </tr>\n",
              "    <tr>\n",
              "      <th>25739336</th>\n",
              "      <td>279772291</td>\n",
              "      <td>2018-06-21</td>\n",
              "      <td>177286275</td>\n",
              "      <td>Nikita</td>\n",
              "      <td>the room was very spacious with everything i n...</td>\n",
              "      <td>en</td>\n",
              "      <td>room spacious everything needed including good...</td>\n",
              "    </tr>\n",
              "    <tr>\n",
              "      <th>21431963</th>\n",
              "      <td>355310559</td>\n",
              "      <td>2018-12-03</td>\n",
              "      <td>152241952</td>\n",
              "      <td>Hal</td>\n",
              "      <td>there are 4 beds in one room, separated by she...</td>\n",
              "      <td>en</td>\n",
              "      <td>bed one room separated sheet comfy bed nice mo...</td>\n",
              "    </tr>\n",
              "    <tr>\n",
              "      <th>35465579</th>\n",
              "      <td>490428721</td>\n",
              "      <td>2019-07-18</td>\n",
              "      <td>275985499</td>\n",
              "      <td>Johnny</td>\n",
              "      <td>they're good people.</td>\n",
              "      <td>en</td>\n",
              "      <td>theyre good people</td>\n",
              "    </tr>\n",
              "    <tr>\n",
              "      <th>21427176</th>\n",
              "      <td>444241062</td>\n",
              "      <td>2019-04-27</td>\n",
              "      <td>252045007</td>\n",
              "      <td>Sabiha</td>\n",
              "      <td>great place to stay with a group of friends! t...</td>\n",
              "      <td>en</td>\n",
              "      <td>great place stay group friend shuttle convenie...</td>\n",
              "    </tr>\n",
              "    <tr>\n",
              "      <th>...</th>\n",
              "      <td>...</td>\n",
              "      <td>...</td>\n",
              "      <td>...</td>\n",
              "      <td>...</td>\n",
              "      <td>...</td>\n",
              "      <td>...</td>\n",
              "      <td>...</td>\n",
              "    </tr>\n",
              "    <tr>\n",
              "      <th>21934202</th>\n",
              "      <td>510116010</td>\n",
              "      <td>2019-08-15</td>\n",
              "      <td>49727371</td>\n",
              "      <td>Celeste</td>\n",
              "      <td>loved this place. in addition to being beautif...</td>\n",
              "      <td>en</td>\n",
              "      <td>loved place addition beautiful lot light well ...</td>\n",
              "    </tr>\n",
              "    <tr>\n",
              "      <th>32676188</th>\n",
              "      <td>610568647</td>\n",
              "      <td>2020-02-24</td>\n",
              "      <td>175421336</td>\n",
              "      <td>Amilcar</td>\n",
              "      <td>hotel was ok. pictures made it look a lot nice...</td>\n",
              "      <td>en</td>\n",
              "      <td>hotel ok picture made look lot nicer room aver...</td>\n",
              "    </tr>\n",
              "    <tr>\n",
              "      <th>28989914</th>\n",
              "      <td>597999576</td>\n",
              "      <td>2020-01-26</td>\n",
              "      <td>219872381</td>\n",
              "      <td>Jakel Johnson</td>\n",
              "      <td>very sweet &amp; kind couple &amp; place.</td>\n",
              "      <td>en</td>\n",
              "      <td>sweet kind couple place</td>\n",
              "    </tr>\n",
              "    <tr>\n",
              "      <th>31316889</th>\n",
              "      <td>447980069</td>\n",
              "      <td>2019-05-04</td>\n",
              "      <td>193511726</td>\n",
              "      <td>Silene</td>\n",
              "      <td>i had a great time staying in . it was nice to...</td>\n",
              "      <td>en</td>\n",
              "      <td>great time staying nice live like local get aw...</td>\n",
              "    </tr>\n",
              "    <tr>\n",
              "      <th>24267208</th>\n",
              "      <td>467621043</td>\n",
              "      <td>2019-06-10</td>\n",
              "      <td>11523450</td>\n",
              "      <td>Alonso</td>\n",
              "      <td>great place to stay, super fun and different n...</td>\n",
              "      <td>en</td>\n",
              "      <td>great place stay super fun different neighborh...</td>\n",
              "    </tr>\n",
              "  </tbody>\n",
              "</table>\n",
              "<p>342472 rows × 7 columns</p>\n",
              "</div>"
            ],
            "text/plain": [
              "                   id        date  reviewer_id  reviewer_name                                           comments language                                 comments_processed\n",
              "listing_id                                                                                                                                                                  \n",
              "17774810    579841237  2019-12-21    308718388        Armando  good place to stay overall. the only thing hor...       en  good place stay overall thing horrible parking...\n",
              "25739336    279772291  2018-06-21    177286275         Nikita  the room was very spacious with everything i n...       en  room spacious everything needed including good...\n",
              "21431963    355310559  2018-12-03    152241952            Hal  there are 4 beds in one room, separated by she...       en  bed one room separated sheet comfy bed nice mo...\n",
              "35465579    490428721  2019-07-18    275985499         Johnny                               they're good people.       en                                 theyre good people\n",
              "21427176    444241062  2019-04-27    252045007         Sabiha  great place to stay with a group of friends! t...       en  great place stay group friend shuttle convenie...\n",
              "...               ...         ...          ...            ...                                                ...      ...                                                ...\n",
              "21934202    510116010  2019-08-15     49727371        Celeste  loved this place. in addition to being beautif...       en  loved place addition beautiful lot light well ...\n",
              "32676188    610568647  2020-02-24    175421336        Amilcar  hotel was ok. pictures made it look a lot nice...       en  hotel ok picture made look lot nicer room aver...\n",
              "28989914    597999576  2020-01-26    219872381  Jakel Johnson                  very sweet & kind couple & place.       en                            sweet kind couple place\n",
              "31316889    447980069  2019-05-04    193511726         Silene  i had a great time staying in . it was nice to...       en  great time staying nice live like local get aw...\n",
              "24267208    467621043  2019-06-10     11523450         Alonso  great place to stay, super fun and different n...       en  great place stay super fun different neighborh...\n",
              "\n",
              "[342472 rows x 7 columns]"
            ]
          },
          "metadata": {
            "tags": []
          },
          "execution_count": 32
        }
      ]
    },
    {
      "cell_type": "code",
      "metadata": {
        "id": "WbQlCAchb4vE",
        "colab_type": "code",
        "outputId": "a1fead93-899a-4a0c-b453-09138b830a85",
        "colab": {
          "base_uri": "https://localhost:8080/",
          "height": 34
        }
      },
      "source": [
        "reviews_sample.shape"
      ],
      "execution_count": 0,
      "outputs": [
        {
          "output_type": "execute_result",
          "data": {
            "text/plain": [
              "(342472, 7)"
            ]
          },
          "metadata": {
            "tags": []
          },
          "execution_count": 34
        }
      ]
    },
    {
      "cell_type": "code",
      "metadata": {
        "id": "vyqe9K6AbLT8",
        "colab_type": "code",
        "outputId": "4c89060e-1a9f-48cb-a922-163f5f1c5287",
        "colab": {
          "base_uri": "https://localhost:8080/",
          "height": 34
        }
      },
      "source": [
        "reviews_sample= reviews_sample[reviews_sample['comments_processed'].notna()]\n",
        "reviews_sample.shape"
      ],
      "execution_count": 14,
      "outputs": [
        {
          "output_type": "execute_result",
          "data": {
            "text/plain": [
              "(342464, 7)"
            ]
          },
          "metadata": {
            "tags": []
          },
          "execution_count": 14
        }
      ]
    },
    {
      "cell_type": "code",
      "metadata": {
        "id": "FMfkUwa25TdW",
        "colab_type": "code",
        "colab": {}
      },
      "source": [
        "#Vectorisation : -\n",
        "corpus_review = []\n",
        "for index, row in reviews_sample.iterrows():\n",
        "  comment = row.comments_processed\n",
        "  corpus_review.append(comment)"
      ],
      "execution_count": 0,
      "outputs": []
    },
    {
      "cell_type": "code",
      "metadata": {
        "id": "ANEDR6lB7opG",
        "colab_type": "code",
        "colab": {}
      },
      "source": [
        "tfidf_vec = TfidfVectorizer(ngram_range=(1, 3))\n",
        "comment_tfidf_vec = tfidf_vec.fit_transform(corpus_review)"
      ],
      "execution_count": 0,
      "outputs": []
    },
    {
      "cell_type": "code",
      "metadata": {
        "id": "k3sBlKhG8Zw7",
        "colab_type": "code",
        "colab": {}
      },
      "source": [
        ""
      ],
      "execution_count": 0,
      "outputs": []
    },
    {
      "cell_type": "code",
      "metadata": {
        "id": "ybNe-rSZ6dzM",
        "colab_type": "code",
        "colab": {}
      },
      "source": [
        "from sklearn.cluster import KMeans\n",
        "\n",
        "Sum_of_squared_distances = []\n",
        "K = range(5,11)\n",
        "for k in K:\n",
        "    modelkmeans_comment = KMeans(n_clusters=k,init='k-means++',n_init=5)\n",
        "    modelkmeans_comment = modelkmeans_comment .fit(comment_tfidf_vec)\n",
        "    Sum_of_squared_distances.append(modelkmeans_comment.inertia_)\n"
      ],
      "execution_count": 0,
      "outputs": []
    },
    {
      "cell_type": "code",
      "metadata": {
        "id": "lsW-3DDQ9rs4",
        "colab_type": "code",
        "colab": {}
      },
      "source": [
        "import matplotlib.pyplot as plt\n",
        "\n",
        "plt.plot([5,6,7,8,9,10], Sum_of_squared_distances, 'bx-')\n",
        "plt.xlabel('k')\n",
        "plt.ylabel('Sum_of_squared_distances')\n",
        "plt.title('Elbow Method For Optimal k')\n",
        "plt.show()"
      ],
      "execution_count": 0,
      "outputs": []
    },
    {
      "cell_type": "code",
      "metadata": {
        "id": "fgCxPnRGZuBU",
        "colab_type": "code",
        "colab": {}
      },
      "source": [
        "k = [5,6,7,8,9,10][Sum_of_squared_distances.index(max(Sum_of_squared_distances))]\n"
      ],
      "execution_count": 0,
      "outputs": []
    },
    {
      "cell_type": "code",
      "metadata": {
        "id": "CqKOmiN27XCk",
        "colab_type": "code",
        "colab": {
          "base_uri": "https://localhost:8080/",
          "height": 68
        },
        "outputId": "422f7f14-1ffd-4f8a-af23-5f4fe38f2b91"
      },
      "source": [
        "from sklearn.cluster import KMeans\n",
        "modelkmeans_comment = KMeans(n_clusters=9, init='k-means++', n_init=5)\n",
        "modelkmeans_comment.fit(comment_tfidf_vec)"
      ],
      "execution_count": 17,
      "outputs": [
        {
          "output_type": "execute_result",
          "data": {
            "text/plain": [
              "KMeans(algorithm='auto', copy_x=True, init='k-means++', max_iter=300,\n",
              "       n_clusters=9, n_init=5, n_jobs=None, precompute_distances='auto',\n",
              "       random_state=None, tol=0.0001, verbose=0)"
            ]
          },
          "metadata": {
            "tags": []
          },
          "execution_count": 17
        }
      ]
    },
    {
      "cell_type": "code",
      "metadata": {
        "id": "MX4MxPRp7eQM",
        "colab_type": "code",
        "colab": {}
      },
      "source": [
        "order_centroids_comm = modelkmeans_comment.cluster_centers_.argsort()[:, ::-1]\n",
        "terms_comm = tfidf_vec.get_feature_names()"
      ],
      "execution_count": 0,
      "outputs": []
    },
    {
      "cell_type": "code",
      "metadata": {
        "id": "QhHFd4XU7snk",
        "colab_type": "code",
        "colab": {}
      },
      "source": [
        "for i in range(9):\n",
        " print(\"Cluster %d:\" % i),\n",
        " for ind in order_centroids_comm[i, :9]:\n",
        "  print(' %s' % terms_comm[ind])"
      ],
      "execution_count": 0,
      "outputs": []
    },
    {
      "cell_type": "code",
      "metadata": {
        "id": "Pa1M9yEc8Zol",
        "colab_type": "code",
        "colab": {}
      },
      "source": [
        "reviews_sample['cluster'] = modelkmeans_comment.labels_\n",
        "reviews_sample.to_csv('reviews_sample.csv')"
      ],
      "execution_count": 0,
      "outputs": []
    },
    {
      "cell_type": "code",
      "metadata": {
        "id": "I4rtlcDI81UW",
        "colab_type": "code",
        "colab": {
          "base_uri": "https://localhost:8080/",
          "height": 34
        },
        "outputId": "d4d1c7b8-ba50-4f27-f572-ed3262c0b8be"
      },
      "source": [
        "reviews_sample.shape"
      ],
      "execution_count": 9,
      "outputs": [
        {
          "output_type": "execute_result",
          "data": {
            "text/plain": [
              "(342472, 7)"
            ]
          },
          "metadata": {
            "tags": []
          },
          "execution_count": 9
        }
      ]
    },
    {
      "cell_type": "code",
      "metadata": {
        "id": "IaZcIYyNia1L",
        "colab_type": "code",
        "colab": {}
      },
      "source": [
        ""
      ],
      "execution_count": 0,
      "outputs": []
    }
  ]
}